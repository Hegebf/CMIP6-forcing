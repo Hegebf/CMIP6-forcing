{
 "cells": [
  {
   "cell_type": "markdown",
   "metadata": {},
   "source": [
    "# Find branch years\n",
    "\n",
    "### for experiments where I have made a global annual average"
   ]
  },
  {
   "cell_type": "code",
   "execution_count": 1,
   "metadata": {},
   "outputs": [],
   "source": [
    "import os\n",
    "import pandas as pd\n",
    "import warnings\n",
    "warnings.filterwarnings('ignore')\n",
    "import xarray as xr\n",
    "import intake"
   ]
  },
  {
   "cell_type": "code",
   "execution_count": 2,
   "metadata": {},
   "outputs": [],
   "source": [
    "# check which folders are available, and make a set of available experiments\n",
    "\n",
    "experiments = {}\n",
    "\n",
    "directory = '../Processed_data/Global_annual_means/'\n",
    "\n",
    "model_names = [ f.name for f in os.scandir(directory) if f.is_dir() and f.name !='.ipynb_checkpoints']\n",
    "\n",
    "for model in model_names:\n",
    "    #print(model)\n",
    "    experiments[model] = {}\n",
    "    modeldirectory = os.path.join(directory, model)\n",
    "    modelexp_names = [ f.name for f in os.scandir(modeldirectory) if f.is_dir() and f.name !='.ipynb_checkpoints']\n",
    "    for exp in modelexp_names:\n",
    "        #print(exp)\n",
    "        experiments[model][exp] = {}\n",
    "        modelexpdirectory = os.path.join(modeldirectory, exp)\n",
    "        filenames = [f.name for f in os.scandir(modelexpdirectory) if f.name !='.ipynb_checkpoints']\n",
    "        \n",
    "        members = [file.rsplit('_')[2] for file in filenames]\n",
    "        members.sort()\n",
    "        experiments[model][exp] = members\n",
    "\n",
    "#experiments   "
   ]
  },
  {
   "cell_type": "markdown",
   "metadata": {},
   "source": [
    "## Select model"
   ]
  },
  {
   "cell_type": "code",
   "execution_count": 3,
   "metadata": {},
   "outputs": [
    {
     "data": {
      "text/plain": [
       "{'piClim-control': ['r1i1p1f1'],\n",
       " 'ssp585': ['r1i1p1f1'],\n",
       " 'piControl': ['r1i1p1f1', 'r2i1p1f1'],\n",
       " 'abrupt-4xCO2': ['r3i1p1f1', 'r8i1p1f1'],\n",
       " 'ssp245': ['r1i1p1f1'],\n",
       " 'historical': ['r1i1p1f1'],\n",
       " 'piClim-4xCO2': ['r1i1p1f1'],\n",
       " 'ssp370': ['r1i1p1f1'],\n",
       " 'ssp126': ['r1i1p1f1']}"
      ]
     },
     "execution_count": 3,
     "metadata": {},
     "output_type": "execute_result"
    }
   ],
   "source": [
    "model = 'EC-Earth3'\n",
    "experiments[model]"
   ]
  },
  {
   "cell_type": "code",
   "execution_count": 14,
   "metadata": {},
   "outputs": [
    {
     "name": "stdout",
     "output_type": "stream",
     "text": [
      "\n",
      "--> The keys in the returned dictionary of datasets are constructed as follows:\n",
      "\t'activity_id.institution_id.source_id.experiment_id.table_id.grid_label'\n"
     ]
    },
    {
     "data": {
      "text/html": [
       "\n",
       "    <div>\n",
       "        <style>\n",
       "            /* Turns off some styling */\n",
       "            progress {\n",
       "                /* gets rid of default border in Firefox and Opera. */\n",
       "                border: none;\n",
       "                /* Needs to be in here for Safari polyfill so background images work as expected. */\n",
       "                background-size: auto;\n",
       "            }\n",
       "            .progress-bar-interrupted, .progress-bar-interrupted::-webkit-progress-bar {\n",
       "                background: #F44336;\n",
       "            }\n",
       "        </style>\n",
       "      <progress value='1' class='' max='1' style='width:300px; height:20px; vertical-align: middle;'></progress>\n",
       "      100.00% [1/1 00:00<00:00]\n",
       "    </div>\n",
       "    "
      ],
      "text/plain": [
       "<IPython.core.display.HTML object>"
      ]
     },
     "metadata": {},
     "output_type": "display_data"
    },
    {
     "name": "stdout",
     "output_type": "stream",
     "text": [
      "EC-Earth3 piClim-control r1i1p1f1 piControl r1i1p1f1 0.0 0.0 days since 1850-01-01 standard\n",
      "\n",
      "--> The keys in the returned dictionary of datasets are constructed as follows:\n",
      "\t'activity_id.institution_id.source_id.experiment_id.table_id.grid_label'\n"
     ]
    },
    {
     "data": {
      "text/html": [
       "\n",
       "    <div>\n",
       "        <style>\n",
       "            /* Turns off some styling */\n",
       "            progress {\n",
       "                /* gets rid of default border in Firefox and Opera. */\n",
       "                border: none;\n",
       "                /* Needs to be in here for Safari polyfill so background images work as expected. */\n",
       "                background-size: auto;\n",
       "            }\n",
       "            .progress-bar-interrupted, .progress-bar-interrupted::-webkit-progress-bar {\n",
       "                background: #F44336;\n",
       "            }\n",
       "        </style>\n",
       "      <progress value='1' class='' max='1' style='width:300px; height:20px; vertical-align: middle;'></progress>\n",
       "      100.00% [1/1 00:00<00:00]\n",
       "    </div>\n",
       "    "
      ],
      "text/plain": [
       "<IPython.core.display.HTML object>"
      ]
     },
     "metadata": {},
     "output_type": "display_data"
    },
    {
     "name": "stdout",
     "output_type": "stream",
     "text": [
      "EC-Earth3 ssp585 r1i1p1f1 historical r1i1p1f1 60265.0 60265.0 days since 1850-01-01 standard\n",
      "\n",
      "--> The keys in the returned dictionary of datasets are constructed as follows:\n",
      "\t'activity_id.institution_id.source_id.experiment_id.table_id.grid_label'\n"
     ]
    },
    {
     "data": {
      "text/html": [
       "\n",
       "    <div>\n",
       "        <style>\n",
       "            /* Turns off some styling */\n",
       "            progress {\n",
       "                /* gets rid of default border in Firefox and Opera. */\n",
       "                border: none;\n",
       "                /* Needs to be in here for Safari polyfill so background images work as expected. */\n",
       "                background-size: auto;\n",
       "            }\n",
       "            .progress-bar-interrupted, .progress-bar-interrupted::-webkit-progress-bar {\n",
       "                background: #F44336;\n",
       "            }\n",
       "        </style>\n",
       "      <progress value='1' class='' max='1' style='width:300px; height:20px; vertical-align: middle;'></progress>\n",
       "      100.00% [1/1 00:00<00:00]\n",
       "    </div>\n",
       "    "
      ],
      "text/plain": [
       "<IPython.core.display.HTML object>"
      ]
     },
     "metadata": {},
     "output_type": "display_data"
    },
    {
     "name": "stdout",
     "output_type": "stream",
     "text": [
      "EC-Earth3 piControl r1i1p1f1 piControl r1i1p1f1 149384.0 0.0 days since 1850-01-01 standard\n",
      "\n",
      "--> The keys in the returned dictionary of datasets are constructed as follows:\n",
      "\t'activity_id.institution_id.source_id.experiment_id.table_id.grid_label'\n"
     ]
    },
    {
     "data": {
      "text/html": [
       "\n",
       "    <div>\n",
       "        <style>\n",
       "            /* Turns off some styling */\n",
       "            progress {\n",
       "                /* gets rid of default border in Firefox and Opera. */\n",
       "                border: none;\n",
       "                /* Needs to be in here for Safari polyfill so background images work as expected. */\n",
       "                background-size: auto;\n",
       "            }\n",
       "            .progress-bar-interrupted, .progress-bar-interrupted::-webkit-progress-bar {\n",
       "                background: #F44336;\n",
       "            }\n",
       "        </style>\n",
       "      <progress value='1' class='' max='1' style='width:300px; height:20px; vertical-align: middle;'></progress>\n",
       "      100.00% [1/1 00:00<00:00]\n",
       "    </div>\n",
       "    "
      ],
      "text/plain": [
       "<IPython.core.display.HTML object>"
      ]
     },
     "metadata": {},
     "output_type": "display_data"
    },
    {
     "name": "stdout",
     "output_type": "stream",
     "text": [
      "EC-Earth3 piControl r2i1p1f1 piControl-spinup r1i1p1f1 0.0 0.0 days since 1850-01-01 none provided\n",
      "\n",
      "--> The keys in the returned dictionary of datasets are constructed as follows:\n",
      "\t'activity_id.institution_id.source_id.experiment_id.table_id.grid_label'\n"
     ]
    },
    {
     "data": {
      "text/html": [
       "\n",
       "    <div>\n",
       "        <style>\n",
       "            /* Turns off some styling */\n",
       "            progress {\n",
       "                /* gets rid of default border in Firefox and Opera. */\n",
       "                border: none;\n",
       "                /* Needs to be in here for Safari polyfill so background images work as expected. */\n",
       "                background-size: auto;\n",
       "            }\n",
       "            .progress-bar-interrupted, .progress-bar-interrupted::-webkit-progress-bar {\n",
       "                background: #F44336;\n",
       "            }\n",
       "        </style>\n",
       "      <progress value='1' class='' max='1' style='width:300px; height:20px; vertical-align: middle;'></progress>\n",
       "      100.00% [1/1 00:00<00:00]\n",
       "    </div>\n",
       "    "
      ],
      "text/plain": [
       "<IPython.core.display.HTML object>"
      ]
     },
     "metadata": {},
     "output_type": "display_data"
    },
    {
     "name": "stdout",
     "output_type": "stream",
     "text": [
      "EC-Earth3 abrupt-4xCO2 r3i1p1f1 piControl r1i1p1f1 0.0 0.0 days since 1850-01-01 standard\n",
      "\n",
      "--> The keys in the returned dictionary of datasets are constructed as follows:\n",
      "\t'activity_id.institution_id.source_id.experiment_id.table_id.grid_label'\n"
     ]
    },
    {
     "data": {
      "text/html": [
       "\n",
       "    <div>\n",
       "        <style>\n",
       "            /* Turns off some styling */\n",
       "            progress {\n",
       "                /* gets rid of default border in Firefox and Opera. */\n",
       "                border: none;\n",
       "                /* Needs to be in here for Safari polyfill so background images work as expected. */\n",
       "                background-size: auto;\n",
       "            }\n",
       "            .progress-bar-interrupted, .progress-bar-interrupted::-webkit-progress-bar {\n",
       "                background: #F44336;\n",
       "            }\n",
       "        </style>\n",
       "      <progress value='1' class='' max='1' style='width:300px; height:20px; vertical-align: middle;'></progress>\n",
       "      100.00% [1/1 00:00<00:00]\n",
       "    </div>\n",
       "    "
      ],
      "text/plain": [
       "<IPython.core.display.HTML object>"
      ]
     },
     "metadata": {},
     "output_type": "display_data"
    },
    {
     "name": "stdout",
     "output_type": "stream",
     "text": [
      "EC-Earth3 abrupt-4xCO2 r8i1p1f1 piControl r1i1p1f1 0.0 252017. days since 1850-01-01 standard\n",
      "\n",
      "--> The keys in the returned dictionary of datasets are constructed as follows:\n",
      "\t'activity_id.institution_id.source_id.experiment_id.table_id.grid_label'\n"
     ]
    },
    {
     "data": {
      "text/html": [
       "\n",
       "    <div>\n",
       "        <style>\n",
       "            /* Turns off some styling */\n",
       "            progress {\n",
       "                /* gets rid of default border in Firefox and Opera. */\n",
       "                border: none;\n",
       "                /* Needs to be in here for Safari polyfill so background images work as expected. */\n",
       "                background-size: auto;\n",
       "            }\n",
       "            .progress-bar-interrupted, .progress-bar-interrupted::-webkit-progress-bar {\n",
       "                background: #F44336;\n",
       "            }\n",
       "        </style>\n",
       "      <progress value='1' class='' max='1' style='width:300px; height:20px; vertical-align: middle;'></progress>\n",
       "      100.00% [1/1 00:00<00:00]\n",
       "    </div>\n",
       "    "
      ],
      "text/plain": [
       "<IPython.core.display.HTML object>"
      ]
     },
     "metadata": {},
     "output_type": "display_data"
    },
    {
     "name": "stdout",
     "output_type": "stream",
     "text": [
      "EC-Earth3 ssp245 r1i1p1f1 historical r1i1p1f1 60265.0 60265.0 days since 1850-01-01 standard\n",
      "\n",
      "--> The keys in the returned dictionary of datasets are constructed as follows:\n",
      "\t'activity_id.institution_id.source_id.experiment_id.table_id.grid_label'\n"
     ]
    },
    {
     "data": {
      "text/html": [
       "\n",
       "    <div>\n",
       "        <style>\n",
       "            /* Turns off some styling */\n",
       "            progress {\n",
       "                /* gets rid of default border in Firefox and Opera. */\n",
       "                border: none;\n",
       "                /* Needs to be in here for Safari polyfill so background images work as expected. */\n",
       "                background-size: auto;\n",
       "            }\n",
       "            .progress-bar-interrupted, .progress-bar-interrupted::-webkit-progress-bar {\n",
       "                background: #F44336;\n",
       "            }\n",
       "        </style>\n",
       "      <progress value='1' class='' max='1' style='width:300px; height:20px; vertical-align: middle;'></progress>\n",
       "      100.00% [1/1 00:00<00:00]\n",
       "    </div>\n",
       "    "
      ],
      "text/plain": [
       "<IPython.core.display.HTML object>"
      ]
     },
     "metadata": {},
     "output_type": "display_data"
    },
    {
     "name": "stdout",
     "output_type": "stream",
     "text": [
      "EC-Earth3 historical r1i1p1f1 piControl r1i1p1f1 0.0 149749.0 days since 1850-01-01 standard\n",
      "\n",
      "--> The keys in the returned dictionary of datasets are constructed as follows:\n",
      "\t'activity_id.institution_id.source_id.experiment_id.table_id.grid_label'\n"
     ]
    },
    {
     "data": {
      "text/html": [
       "\n",
       "    <div>\n",
       "        <style>\n",
       "            /* Turns off some styling */\n",
       "            progress {\n",
       "                /* gets rid of default border in Firefox and Opera. */\n",
       "                border: none;\n",
       "                /* Needs to be in here for Safari polyfill so background images work as expected. */\n",
       "                background-size: auto;\n",
       "            }\n",
       "            .progress-bar-interrupted, .progress-bar-interrupted::-webkit-progress-bar {\n",
       "                background: #F44336;\n",
       "            }\n",
       "        </style>\n",
       "      <progress value='1' class='' max='1' style='width:300px; height:20px; vertical-align: middle;'></progress>\n",
       "      100.00% [1/1 00:00<00:00]\n",
       "    </div>\n",
       "    "
      ],
      "text/plain": [
       "<IPython.core.display.HTML object>"
      ]
     },
     "metadata": {},
     "output_type": "display_data"
    },
    {
     "name": "stdout",
     "output_type": "stream",
     "text": [
      "EC-Earth3 piClim-4xCO2 r1i1p1f1 piControl r1i1p1f1 0.0 0.0 days since 1850-01-01 standard\n",
      "\n",
      "--> The keys in the returned dictionary of datasets are constructed as follows:\n",
      "\t'activity_id.institution_id.source_id.experiment_id.table_id.grid_label'\n"
     ]
    },
    {
     "data": {
      "text/html": [
       "\n",
       "    <div>\n",
       "        <style>\n",
       "            /* Turns off some styling */\n",
       "            progress {\n",
       "                /* gets rid of default border in Firefox and Opera. */\n",
       "                border: none;\n",
       "                /* Needs to be in here for Safari polyfill so background images work as expected. */\n",
       "                background-size: auto;\n",
       "            }\n",
       "            .progress-bar-interrupted, .progress-bar-interrupted::-webkit-progress-bar {\n",
       "                background: #F44336;\n",
       "            }\n",
       "        </style>\n",
       "      <progress value='1' class='' max='1' style='width:300px; height:20px; vertical-align: middle;'></progress>\n",
       "      100.00% [1/1 00:00<00:00]\n",
       "    </div>\n",
       "    "
      ],
      "text/plain": [
       "<IPython.core.display.HTML object>"
      ]
     },
     "metadata": {},
     "output_type": "display_data"
    },
    {
     "name": "stdout",
     "output_type": "stream",
     "text": [
      "EC-Earth3 ssp370 r1i1p1f1 historical r1i1p1f1 60265.0 60265.0 days since 1850-01-01 standard\n",
      "\n",
      "--> The keys in the returned dictionary of datasets are constructed as follows:\n",
      "\t'activity_id.institution_id.source_id.experiment_id.table_id.grid_label'\n"
     ]
    },
    {
     "data": {
      "text/html": [
       "\n",
       "    <div>\n",
       "        <style>\n",
       "            /* Turns off some styling */\n",
       "            progress {\n",
       "                /* gets rid of default border in Firefox and Opera. */\n",
       "                border: none;\n",
       "                /* Needs to be in here for Safari polyfill so background images work as expected. */\n",
       "                background-size: auto;\n",
       "            }\n",
       "            .progress-bar-interrupted, .progress-bar-interrupted::-webkit-progress-bar {\n",
       "                background: #F44336;\n",
       "            }\n",
       "        </style>\n",
       "      <progress value='1' class='' max='1' style='width:300px; height:20px; vertical-align: middle;'></progress>\n",
       "      100.00% [1/1 00:00<00:00]\n",
       "    </div>\n",
       "    "
      ],
      "text/plain": [
       "<IPython.core.display.HTML object>"
      ]
     },
     "metadata": {},
     "output_type": "display_data"
    },
    {
     "name": "stdout",
     "output_type": "stream",
     "text": [
      "EC-Earth3 ssp126 r1i1p1f1 historical r1i1p1f1 60265.0 60265.0 days since 1850-01-01 standard\n"
     ]
    }
   ],
   "source": [
    "col_url = \"https://storage.googleapis.com/cmip6/pangeo-cmip6.json\"\n",
    "col = intake.open_esm_datastore(col_url)\n",
    "\n",
    "filename = '../Processed_data/Branch_times/' + model + '_branch_times.txt'\n",
    "column_names = ['model', 'exp', 'member', 'parent_experiment_id', 'parent_variant_id', \n",
    "                'branch_time_in_child', 'branch_time_in_parent', 'parent_time_units', 'branch_method']\n",
    "df = pd.DataFrame(columns = column_names)\n",
    "\n",
    "#for model in experiments:\n",
    "#for exp in ['piClim-control', 'piControl', 'abrupt-4xCO2', 'piClim-4xCO2']:\n",
    "for exp in experiments[model]:\n",
    "        for member in experiments[model][exp]:\n",
    "\n",
    "            cat = col.search(experiment_id = exp, variable_id='rlut', table_id='Amon', source_id = model, member_id = member)\n",
    "            dset_dict = cat.to_dataset_dict(zarr_kwargs={'consolidated': True}, cdf_kwargs={'chunks': {}})\n",
    "            for key in dset_dict.keys():\n",
    "                ds = dset_dict[key]\n",
    "            parent_experiment_id = ds.parent_experiment_id\n",
    "            parent_variant_label = ds.parent_variant_label\n",
    "            branch_time_in_child = ds.branch_time_in_child\n",
    "            branch_time_in_parent = ds.branch_time_in_parent\n",
    "            parent_time_units = ds.parent_time_units\n",
    "            branch_method = ds.branch_method\n",
    "            if model == 'EC-Earth3':\n",
    "                branch_time_in_child = str(branch_time_in_child).replace('D', '')\n",
    "                branch_time_in_parent = str(branch_time_in_parent).replace('D', '')\n",
    "\n",
    "            print(model, exp, member, parent_experiment_id, parent_variant_label, branch_time_in_child, branch_time_in_parent, parent_time_units, branch_method)\n",
    "            df_row = pd.DataFrame([[model, exp, member, parent_experiment_id, parent_variant_label,\n",
    "                       branch_time_in_child, branch_time_in_parent, parent_time_units, branch_method]] ,columns = column_names)\n",
    "            df = df.append(df_row, ignore_index = True)"
   ]
  },
  {
   "cell_type": "code",
   "execution_count": 16,
   "metadata": {},
   "outputs": [
    {
     "data": {
      "text/html": [
       "<div>\n",
       "<style scoped>\n",
       "    .dataframe tbody tr th:only-of-type {\n",
       "        vertical-align: middle;\n",
       "    }\n",
       "\n",
       "    .dataframe tbody tr th {\n",
       "        vertical-align: top;\n",
       "    }\n",
       "\n",
       "    .dataframe thead th {\n",
       "        text-align: right;\n",
       "    }\n",
       "</style>\n",
       "<table border=\"1\" class=\"dataframe\">\n",
       "  <thead>\n",
       "    <tr style=\"text-align: right;\">\n",
       "      <th></th>\n",
       "      <th>model</th>\n",
       "      <th>exp</th>\n",
       "      <th>member</th>\n",
       "      <th>parent_experiment_id</th>\n",
       "      <th>parent_variant_id</th>\n",
       "      <th>branch_time_in_child</th>\n",
       "      <th>branch_time_in_parent</th>\n",
       "      <th>parent_time_units</th>\n",
       "      <th>branch_method</th>\n",
       "    </tr>\n",
       "  </thead>\n",
       "  <tbody>\n",
       "    <tr>\n",
       "      <th>0</th>\n",
       "      <td>EC-Earth3</td>\n",
       "      <td>piClim-control</td>\n",
       "      <td>r1i1p1f1</td>\n",
       "      <td>piControl</td>\n",
       "      <td>r1i1p1f1</td>\n",
       "      <td>0.0</td>\n",
       "      <td>0.0</td>\n",
       "      <td>days since 1850-01-01</td>\n",
       "      <td>standard</td>\n",
       "    </tr>\n",
       "    <tr>\n",
       "      <th>1</th>\n",
       "      <td>EC-Earth3</td>\n",
       "      <td>ssp585</td>\n",
       "      <td>r1i1p1f1</td>\n",
       "      <td>historical</td>\n",
       "      <td>r1i1p1f1</td>\n",
       "      <td>60265.0</td>\n",
       "      <td>60265.0</td>\n",
       "      <td>days since 1850-01-01</td>\n",
       "      <td>standard</td>\n",
       "    </tr>\n",
       "    <tr>\n",
       "      <th>2</th>\n",
       "      <td>EC-Earth3</td>\n",
       "      <td>piControl</td>\n",
       "      <td>r1i1p1f1</td>\n",
       "      <td>piControl</td>\n",
       "      <td>r1i1p1f1</td>\n",
       "      <td>149384.0</td>\n",
       "      <td>0.0</td>\n",
       "      <td>days since 1850-01-01</td>\n",
       "      <td>standard</td>\n",
       "    </tr>\n",
       "    <tr>\n",
       "      <th>3</th>\n",
       "      <td>EC-Earth3</td>\n",
       "      <td>piControl</td>\n",
       "      <td>r2i1p1f1</td>\n",
       "      <td>piControl-spinup</td>\n",
       "      <td>r1i1p1f1</td>\n",
       "      <td>0.0</td>\n",
       "      <td>0.0</td>\n",
       "      <td>days since 1850-01-01</td>\n",
       "      <td>none provided</td>\n",
       "    </tr>\n",
       "    <tr>\n",
       "      <th>4</th>\n",
       "      <td>EC-Earth3</td>\n",
       "      <td>abrupt-4xCO2</td>\n",
       "      <td>r3i1p1f1</td>\n",
       "      <td>piControl</td>\n",
       "      <td>r1i1p1f1</td>\n",
       "      <td>0.0</td>\n",
       "      <td>0.0</td>\n",
       "      <td>days since 1850-01-01</td>\n",
       "      <td>standard</td>\n",
       "    </tr>\n",
       "    <tr>\n",
       "      <th>5</th>\n",
       "      <td>EC-Earth3</td>\n",
       "      <td>abrupt-4xCO2</td>\n",
       "      <td>r8i1p1f1</td>\n",
       "      <td>piControl</td>\n",
       "      <td>r1i1p1f1</td>\n",
       "      <td>0.0</td>\n",
       "      <td>252017.</td>\n",
       "      <td>days since 1850-01-01</td>\n",
       "      <td>standard</td>\n",
       "    </tr>\n",
       "    <tr>\n",
       "      <th>6</th>\n",
       "      <td>EC-Earth3</td>\n",
       "      <td>ssp245</td>\n",
       "      <td>r1i1p1f1</td>\n",
       "      <td>historical</td>\n",
       "      <td>r1i1p1f1</td>\n",
       "      <td>60265.0</td>\n",
       "      <td>60265.0</td>\n",
       "      <td>days since 1850-01-01</td>\n",
       "      <td>standard</td>\n",
       "    </tr>\n",
       "    <tr>\n",
       "      <th>7</th>\n",
       "      <td>EC-Earth3</td>\n",
       "      <td>historical</td>\n",
       "      <td>r1i1p1f1</td>\n",
       "      <td>piControl</td>\n",
       "      <td>r1i1p1f1</td>\n",
       "      <td>0.0</td>\n",
       "      <td>149749.0</td>\n",
       "      <td>days since 1850-01-01</td>\n",
       "      <td>standard</td>\n",
       "    </tr>\n",
       "    <tr>\n",
       "      <th>8</th>\n",
       "      <td>EC-Earth3</td>\n",
       "      <td>piClim-4xCO2</td>\n",
       "      <td>r1i1p1f1</td>\n",
       "      <td>piControl</td>\n",
       "      <td>r1i1p1f1</td>\n",
       "      <td>0.0</td>\n",
       "      <td>0.0</td>\n",
       "      <td>days since 1850-01-01</td>\n",
       "      <td>standard</td>\n",
       "    </tr>\n",
       "    <tr>\n",
       "      <th>9</th>\n",
       "      <td>EC-Earth3</td>\n",
       "      <td>ssp370</td>\n",
       "      <td>r1i1p1f1</td>\n",
       "      <td>historical</td>\n",
       "      <td>r1i1p1f1</td>\n",
       "      <td>60265.0</td>\n",
       "      <td>60265.0</td>\n",
       "      <td>days since 1850-01-01</td>\n",
       "      <td>standard</td>\n",
       "    </tr>\n",
       "    <tr>\n",
       "      <th>10</th>\n",
       "      <td>EC-Earth3</td>\n",
       "      <td>ssp126</td>\n",
       "      <td>r1i1p1f1</td>\n",
       "      <td>historical</td>\n",
       "      <td>r1i1p1f1</td>\n",
       "      <td>60265.0</td>\n",
       "      <td>60265.0</td>\n",
       "      <td>days since 1850-01-01</td>\n",
       "      <td>standard</td>\n",
       "    </tr>\n",
       "  </tbody>\n",
       "</table>\n",
       "</div>"
      ],
      "text/plain": [
       "        model             exp    member parent_experiment_id  \\\n",
       "0   EC-Earth3  piClim-control  r1i1p1f1            piControl   \n",
       "1   EC-Earth3          ssp585  r1i1p1f1           historical   \n",
       "2   EC-Earth3       piControl  r1i1p1f1            piControl   \n",
       "3   EC-Earth3       piControl  r2i1p1f1     piControl-spinup   \n",
       "4   EC-Earth3    abrupt-4xCO2  r3i1p1f1            piControl   \n",
       "5   EC-Earth3    abrupt-4xCO2  r8i1p1f1            piControl   \n",
       "6   EC-Earth3          ssp245  r1i1p1f1           historical   \n",
       "7   EC-Earth3      historical  r1i1p1f1            piControl   \n",
       "8   EC-Earth3    piClim-4xCO2  r1i1p1f1            piControl   \n",
       "9   EC-Earth3          ssp370  r1i1p1f1           historical   \n",
       "10  EC-Earth3          ssp126  r1i1p1f1           historical   \n",
       "\n",
       "   parent_variant_id branch_time_in_child branch_time_in_parent  \\\n",
       "0           r1i1p1f1                  0.0                   0.0   \n",
       "1           r1i1p1f1              60265.0               60265.0   \n",
       "2           r1i1p1f1             149384.0                   0.0   \n",
       "3           r1i1p1f1                  0.0                   0.0   \n",
       "4           r1i1p1f1                  0.0                   0.0   \n",
       "5           r1i1p1f1                  0.0               252017.   \n",
       "6           r1i1p1f1              60265.0               60265.0   \n",
       "7           r1i1p1f1                  0.0              149749.0   \n",
       "8           r1i1p1f1                  0.0                   0.0   \n",
       "9           r1i1p1f1              60265.0               60265.0   \n",
       "10          r1i1p1f1              60265.0               60265.0   \n",
       "\n",
       "        parent_time_units  branch_method  \n",
       "0   days since 1850-01-01       standard  \n",
       "1   days since 1850-01-01       standard  \n",
       "2   days since 1850-01-01       standard  \n",
       "3   days since 1850-01-01  none provided  \n",
       "4   days since 1850-01-01       standard  \n",
       "5   days since 1850-01-01       standard  \n",
       "6   days since 1850-01-01       standard  \n",
       "7   days since 1850-01-01       standard  \n",
       "8   days since 1850-01-01       standard  \n",
       "9   days since 1850-01-01       standard  \n",
       "10  days since 1850-01-01       standard  "
      ]
     },
     "execution_count": 16,
     "metadata": {},
     "output_type": "execute_result"
    }
   ],
   "source": [
    "df"
   ]
  },
  {
   "cell_type": "code",
   "execution_count": 17,
   "metadata": {},
   "outputs": [],
   "source": [
    "df.to_csv(filename, ' ')"
   ]
  },
  {
   "cell_type": "code",
   "execution_count": null,
   "metadata": {},
   "outputs": [],
   "source": []
  }
 ],
 "metadata": {
  "kernelspec": {
   "display_name": "Python [conda env:CMIP6_hege]",
   "language": "python",
   "name": "conda-env-CMIP6_hege-py"
  },
  "language_info": {
   "codemirror_mode": {
    "name": "ipython",
    "version": 3
   },
   "file_extension": ".py",
   "mimetype": "text/x-python",
   "name": "python",
   "nbconvert_exporter": "python",
   "pygments_lexer": "ipython3",
   "version": "3.6.10"
  }
 },
 "nbformat": 4,
 "nbformat_minor": 4
}
