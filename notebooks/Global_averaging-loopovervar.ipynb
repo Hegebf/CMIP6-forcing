{
 "cells": [
  {
   "cell_type": "markdown",
   "metadata": {},
   "source": [
    "# Global averaging"
   ]
  },
  {
   "cell_type": "code",
   "execution_count": null,
   "metadata": {},
   "outputs": [],
   "source": [
    "import warnings\n",
    "warnings.filterwarnings('ignore')\n",
    "import numpy as np\n",
    "from scipy.signal import detrend\n",
    "from matplotlib import pyplot as plt\n",
    "from scipy import signal\n",
    "import pandas as pd\n",
    "import xarray as xr\n",
    "import intake\n",
    "import pprint \n",
    "import util \n",
    "import os\n",
    "\n",
    "col_url = \"https://storage.googleapis.com/cmip6/pangeo-cmip6.json\"\n",
    "col = intake.open_esm_datastore(col_url)\n",
    "\n",
    "file = 'available_tas_data_cloud_june12th_2020.txt'"
   ]
  },
  {
   "cell_type": "code",
   "execution_count": null,
   "metadata": {},
   "outputs": [],
   "source": [
    "# load table:\n",
    "data_table = pd.read_table(file,index_col=0)\n",
    "models_used = data_table['piControl (yrs)'].index\n",
    "print(models_used)"
   ]
  },
  {
   "cell_type": "code",
   "execution_count": null,
   "metadata": {},
   "outputs": [],
   "source": [
    "# load functions:\n",
    "def area_weights(lat_bnds, lon_bnds): \n",
    "    # computes exact area weigths assuming earth is a perfect sphere\n",
    "    lowerlats = np.radians(lat_bnds[:,0]); upperlats = np.radians(lat_bnds[:,1])\n",
    "    difflon = np.radians(np.diff(lon_bnds[0,:])) # if the differences in longitudes are all the same\n",
    "    areaweights = difflon*(np.sin(upperlats) - np.sin(lowerlats));\n",
    "    areaweights /= areaweights.mean()\n",
    "    return areaweights # list of weights, of same dimension as latitude\n",
    "\n",
    "# function copied from: http://xarray.pydata.org/en/stable/examples/monthly-means.html\n",
    "def leap_year(year, calendar='standard'):\n",
    "    \"\"\"Determine if year is a leap year\"\"\"\n",
    "    leap = False\n",
    "    if ((calendar in ['standard', 'gregorian',\n",
    "        'proleptic_gregorian', 'julian']) and\n",
    "        (year % 4 == 0)):\n",
    "        leap = True\n",
    "        if ((calendar == 'proleptic_gregorian') and\n",
    "            (year % 100 == 0) and\n",
    "            (year % 400 != 0)):\n",
    "            leap = False\n",
    "        elif ((calendar in ['standard', 'gregorian']) and\n",
    "                 (year % 100 == 0) and (year % 400 != 0) and\n",
    "                 (year < 1583)):\n",
    "            leap = False\n",
    "    return leap\n",
    "\n",
    "# function copied from: http://xarray.pydata.org/en/stable/examples/monthly-means.html\n",
    "def get_dpm(time, calendar='standard'):\n",
    "    \"\"\"\n",
    "    return a array of days per month corresponding to the months provided in `months`\n",
    "    \"\"\"\n",
    "    month_length = np.zeros(len(time), dtype=np.int)\n",
    "\n",
    "    cal_days = dpm[calendar]\n",
    "\n",
    "    for i, (month, year) in enumerate(zip(time.month, time.year)):\n",
    "        month_length[i] = cal_days[month]\n",
    "        if leap_year(year, calendar=calendar) and month == 2:\n",
    "            month_length[i] += 1\n",
    "    return month_length\n",
    "\n",
    "# days per month:\n",
    "dpm = {'noleap': [0, 31, 28, 31, 30, 31, 30, 31, 31, 30, 31, 30, 31],\n",
    "       'gregorian': [0, 31, 28, 31, 30, 31, 30, 31, 31, 30, 31, 30, 31],\n",
    "       'julian': [0, 31, 28, 31, 30, 31, 30, 31, 31, 30, 31, 30, 31], ##### I think this should be correct\n",
    "       'proleptic_gregorian': [0, 31, 28, 31, 30, 31, 30, 31, 31, 30, 31, 30, 31],\n",
    "       '360_day': [0, 30, 30, 30, 30, 30, 30, 30, 30, 30, 30, 30, 30]\n",
    "      }\n",
    "\n",
    "def compute_day_weights(ds, calendar = 'noleap'): # new function\n",
    "    month_length = xr.DataArray(get_dpm((ds.time.to_index()), calendar=ds_calendar), coords=[ds.time], name='month_length')\n",
    "    \n",
    "    ##### This code is only tested for noleap so far #####\n",
    "    norm_by_annual = month_length.groupby('time.year').mean('time') # make annual mean\n",
    "    norm_by_monthly = np.concatenate([np.tile(norm_by_annual.values[i], 12) for i in range(len(norm_by_annual.values))])\n",
    "    weights = month_length/norm_by_monthly\n",
    "    # normalized to have mean 1\n",
    "    return weights \n",
    "\n",
    "def calendar_check(model):\n",
    "    # Time formats for piControl, found from manual check:\n",
    "    if model in ['TaiESM1', 'BCC-CSM2-MR', 'BCC-ESM1', 'CAMS-CSM1-0', 'FGOALS-f3-L', 'FGOALS-g3', 'CanESM5', 'CanESM5-CanOE', 'E3SM-1-0', 'E3SM-1-1', 'E3SM-1-1-ECA', 'FIO-ESM-2-0', 'INM-CM4-8', 'INM-CM5-0', 'GISS-E2-1-G', 'GISS-E2-1-G-CC', 'GISS-E2-1-H', 'GISS-E2-2-G', 'CESM2', 'CESM2-FV2', 'CESM2-WACCM', 'CESM2-WACCM-FV2', 'NorCPM1', 'NorESM1-F', 'NorESM2-LM', 'NorESM2-MM', 'GFDL-CM4', 'SAM0-UNICON', 'GFDL-ESM4', 'CIESM', 'MCM-UA-1-0']:\n",
    "        ds_calendar = 'noleap'\n",
    "    elif model in ['CNRM-CM6-1', 'IPSL-CM6A-LR', 'MIROC-ES2L', 'MIROC6', 'NESM3']:\n",
    "        ds_calendar = 'gregorian'\n",
    "    elif model in ['AWI-CM-1-1-MR', 'EC-Earth3-Veg', 'EC-Earth3-Veg-LR', 'ACCESS-ESM1-5', 'ACCESS-CM2', 'MPI-ESM-1-2-HAM', 'MPI-ESM1-2-LR', 'MPI-ESM1-2-HR']:\n",
    "        ds_calendar = 'proleptic_gregorian'\n",
    "    elif model in ['UKESM1-0-LL', 'HadGEM3-GC31-LL', 'HadGEM3-GC31-MM', 'CNRM-ESM2-1', 'KACE-1-0-G', 'MRI-ESM2-0']:\n",
    "        ds_calendar = '360_day'\n",
    "        if model in ['CNRM-ESM2-1', 'MRI-ESM2-0']:\n",
    "            print('piControl is 360_day, the other experiments unknown')\n",
    "    elif model in ['IITM-ESM']:\n",
    "        ds_calendar = 'Julian'\n",
    "    elif model in ['AWI-ESM-1-1-LR', 'CNRM-CM6-1-HR', 'EC-Earth3', 'EC-Earth3-LR']:\n",
    "        #ds_calendar = 'datetime64'\n",
    "        print('not 100% sure what calendar this model has, but a guess is made based on other models from same institution')\n",
    "        if model in ['EC-Earth3', 'EC-Earth3-LR', 'AWI-ESM-1-1-LR']:\n",
    "            print('calendar is likely proleptic gregorian')\n",
    "            ds_calendar = 'proleptic_gregorian'\n",
    "        elif model in ['CNRM-CM6-1-HR']:\n",
    "            print('calendar is likely gregorian')\n",
    "            ds_calendar = 'gregorian'\n",
    "    return ds_calendar\n",
    "    "
   ]
  },
  {
   "cell_type": "markdown",
   "metadata": {},
   "source": [
    "# Choose model, exp, member"
   ]
  },
  {
   "cell_type": "code",
   "execution_count": null,
   "metadata": {},
   "outputs": [],
   "source": [
    "#model = models_used[10]; \n",
    "model = 'EC-Earth3'\n",
    "print(model)\n",
    "ds_calendar = calendar_check(model)\n",
    "print(ds_calendar, 'calendar')\n",
    "\n",
    "#check what experiments are available for var\n",
    "var = 'tas'\n",
    "#cat = col.search(experiment_id = ['piControl', 'abrupt-4xCO2', 'abrupt-2xCO2', 'abrupt-0p5xCO2', 'historical', 'ssp126', 'ssp245', 'ssp370', 'ssp585'], source_id = model, variable_id=var, table_id='Amon') \n",
    "cat = col.search(experiment_id = 'piControl', source_id = model, variable_id=['tas', 'rlut', 'rsut', 'rsdt'], table_id='Amon') \n",
    "\n",
    "cat.df\n"
   ]
  },
  {
   "cell_type": "code",
   "execution_count": null,
   "metadata": {},
   "outputs": [],
   "source": [
    "#exp = 'piControl'\n",
    "#exp = 'abrupt-4xCO2'\n",
    "#exp = 'abrupt-2xCO2'\n",
    "#exp = 'abrupt-0p5xCO2'\n",
    "#exp = 'historical'\n",
    "exp = 'ssp126'\n",
    "#exp = 'ssp245'\n",
    "#exp = 'ssp370'\n",
    "#exp = 'ssp585'\n",
    "\n",
    "\n",
    "cat = col.search(experiment_id = exp, source_id = model, variable_id=['tas', 'rlut', 'rsut', 'rsdt'], table_id='Amon') \n",
    "if 'dset_dict' in locals():\n",
    "    del dset_dict\n",
    "elif 'ds_exp' in locals():\n",
    "    del ds_exp\n",
    "dset_dict = cat.to_dataset_dict(zarr_kwargs={'consolidated': True}, cdf_kwargs={'chunks': {}})\n",
    "for key in dset_dict.keys():\n",
    "    ds_exp = dset_dict[key]\n",
    "    del members_sorted\n",
    "    members_sorted = ds_exp.member_id.sortby(ds_exp.member_id)\n",
    "    \n",
    "if model == 'MCM-UA-1-0':\n",
    "    ds_exp = ds_exp.rename({'longitude': 'lon','latitude': 'lat'}) \n",
    "        \n",
    "for member in members_sorted:\n",
    "    print(member.values)\n",
    "    \n",
    "# write out data variables, to check that we have all we want    \n",
    "ds_exp.data_vars"
   ]
  },
  {
   "cell_type": "code",
   "execution_count": null,
   "metadata": {},
   "outputs": [],
   "source": [
    "#ds_exp"
   ]
  },
  {
   "cell_type": "code",
   "execution_count": null,
   "metadata": {},
   "outputs": [],
   "source": [
    "# loop through members\n",
    "for member in members_sorted:\n",
    "    print(member.values)\n",
    "\n",
    "    ds = ds_exp.sel(member_id = member)\n",
    "    # compute weights for average\n",
    "    area_w = area_weights(ds.lat_bnds.values, ds.lon_bnds.values)\n",
    "    day_weights = compute_day_weights(ds)\n",
    "\n",
    "    for variable in ['tas', 'rlut', 'rsut', 'rsdt']:\n",
    "        print(variable)\n",
    "        data = ds[variable]\n",
    "\n",
    "        # global average\n",
    "        area_avg = (data.transpose('time', 'lon', 'lat') * area_w).mean(dim=['lon', 'lat'])\n",
    "\n",
    "        # annual average\n",
    "        day_weighted_avg = area_avg*day_weights\n",
    "        annualmean = day_weighted_avg.groupby('time.year').mean('time')\n",
    "\n",
    "        if variable == 'tas':\n",
    "            # create dataframe for storing all results\n",
    "            df = pd.DataFrame(annualmean.values, columns = [variable])\n",
    "        else:\n",
    "            df_col = pd.DataFrame(annualmean.values, columns = [variable])\n",
    "            df = pd.merge(df, df_col, left_index=True, right_index=True, how='outer')\n",
    "            \n",
    "    filename = model + '_' + exp + '_' + str(member.values) + '_means.txt'\n",
    "    file = os.path.join('../Processed_data/Global_annual_means/', model, exp, filename)\n",
    "    if member == members_sorted[0]: # create directory for first member\n",
    "        os.makedirs(os.path.dirname(file), exist_ok=False)\n",
    "\n",
    "    df.to_csv(file)\n",
    "    "
   ]
  },
  {
   "cell_type": "code",
   "execution_count": null,
   "metadata": {},
   "outputs": [],
   "source": [
    "df"
   ]
  },
  {
   "cell_type": "code",
   "execution_count": null,
   "metadata": {},
   "outputs": [],
   "source": []
  },
  {
   "cell_type": "code",
   "execution_count": 23,
   "metadata": {},
   "outputs": [],
   "source": []
  },
  {
   "cell_type": "code",
   "execution_count": null,
   "metadata": {},
   "outputs": [],
   "source": []
  },
  {
   "cell_type": "code",
   "execution_count": 47,
   "metadata": {},
   "outputs": [
    {
     "data": {
      "text/plain": [
       "'GISS-E2-1-G'"
      ]
     },
     "execution_count": 47,
     "metadata": {},
     "output_type": "execute_result"
    }
   ],
   "source": [
    "model"
   ]
  },
  {
   "cell_type": "code",
   "execution_count": 129,
   "metadata": {},
   "outputs": [
    {
     "data": {
      "text/html": [
       "<div>\n",
       "<style scoped>\n",
       "    .dataframe tbody tr th:only-of-type {\n",
       "        vertical-align: middle;\n",
       "    }\n",
       "\n",
       "    .dataframe tbody tr th {\n",
       "        vertical-align: top;\n",
       "    }\n",
       "\n",
       "    .dataframe thead th {\n",
       "        text-align: right;\n",
       "    }\n",
       "</style>\n",
       "<table border=\"1\" class=\"dataframe\">\n",
       "  <thead>\n",
       "    <tr style=\"text-align: right;\">\n",
       "      <th></th>\n",
       "      <th>activity_id</th>\n",
       "      <th>institution_id</th>\n",
       "      <th>source_id</th>\n",
       "      <th>experiment_id</th>\n",
       "      <th>member_id</th>\n",
       "      <th>table_id</th>\n",
       "      <th>variable_id</th>\n",
       "      <th>grid_label</th>\n",
       "      <th>zstore</th>\n",
       "      <th>dcpp_init_year</th>\n",
       "    </tr>\n",
       "  </thead>\n",
       "  <tbody>\n",
       "    <tr>\n",
       "      <td>221770</td>\n",
       "      <td>ScenarioMIP</td>\n",
       "      <td>AWI</td>\n",
       "      <td>AWI-CM-1-1-MR</td>\n",
       "      <td>ssp245</td>\n",
       "      <td>r1i1p1f1</td>\n",
       "      <td>Amon</td>\n",
       "      <td>rsut</td>\n",
       "      <td>gn</td>\n",
       "      <td>gs://cmip6/ScenarioMIP/AWI/AWI-CM-1-1-MR/ssp24...</td>\n",
       "      <td>NaN</td>\n",
       "    </tr>\n",
       "  </tbody>\n",
       "</table>\n",
       "</div>"
      ],
      "text/plain": [
       "        activity_id institution_id      source_id experiment_id member_id  \\\n",
       "221770  ScenarioMIP            AWI  AWI-CM-1-1-MR        ssp245  r1i1p1f1   \n",
       "\n",
       "       table_id variable_id grid_label  \\\n",
       "221770     Amon        rsut         gn   \n",
       "\n",
       "                                                   zstore  dcpp_init_year  \n",
       "221770  gs://cmip6/ScenarioMIP/AWI/AWI-CM-1-1-MR/ssp24...             NaN  "
      ]
     },
     "execution_count": 129,
     "metadata": {},
     "output_type": "execute_result"
    }
   ],
   "source": [
    "# check dataset availability:\n",
    "#col_url = \"https://raw.githubusercontent.com/NCAR/intake-esm-datastore/master/catalogs/pangeo-cmip6.json\"\n",
    "col_url = \"https://storage.googleapis.com/cmip6/pangeo-cmip6.json\"\n",
    "col = intake.open_esm_datastore(col_url)\n",
    "cat = col.search(experiment_id = 'ssp245', variable_id='tas', table_id='Amon', source_id = 'CanESM5')\n",
    "cat.df"
   ]
  },
  {
   "cell_type": "code",
   "execution_count": null,
   "metadata": {},
   "outputs": [],
   "source": []
  },
  {
   "cell_type": "code",
   "execution_count": null,
   "metadata": {},
   "outputs": [],
   "source": []
  },
  {
   "cell_type": "code",
   "execution_count": null,
   "metadata": {},
   "outputs": [],
   "source": []
  },
  {
   "cell_type": "code",
   "execution_count": null,
   "metadata": {},
   "outputs": [],
   "source": []
  },
  {
   "cell_type": "code",
   "execution_count": null,
   "metadata": {},
   "outputs": [],
   "source": []
  }
 ],
 "metadata": {
  "kernelspec": {
   "display_name": "CMIP6 2019.10a",
   "language": "python",
   "name": "cmip6-201910a"
  },
  "language_info": {
   "codemirror_mode": {
    "name": "ipython",
    "version": 3
   },
   "file_extension": ".py",
   "mimetype": "text/x-python",
   "name": "python",
   "nbconvert_exporter": "python",
   "pygments_lexer": "ipython3",
   "version": "3.7.3"
  }
 },
 "nbformat": 4,
 "nbformat_minor": 4
}
