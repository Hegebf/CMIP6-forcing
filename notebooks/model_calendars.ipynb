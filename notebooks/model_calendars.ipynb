{
 "cells": [
  {
   "cell_type": "markdown",
   "metadata": {},
   "source": [
    "# Find calendar\n",
    "\n",
    "### for experiments where I have made a global annual average"
   ]
  },
  {
   "cell_type": "code",
   "execution_count": 1,
   "metadata": {},
   "outputs": [],
   "source": [
    "import os\n",
    "import pandas as pd\n",
    "import warnings\n",
    "warnings.filterwarnings('ignore')\n",
    "import xarray as xr\n",
    "import intake"
   ]
  },
  {
   "cell_type": "code",
   "execution_count": 2,
   "metadata": {},
   "outputs": [],
   "source": [
    "# check which folders are available, and make a set of available experiments\n",
    "\n",
    "experiments = {}\n",
    "\n",
    "directory = '../Processed_data/Global_annual_means/'\n",
    "\n",
    "model_names = [ f.name for f in os.scandir(directory) if f.is_dir() and f.name !='.ipynb_checkpoints']\n",
    "\n",
    "for model in model_names:\n",
    "    #print(model)\n",
    "    experiments[model] = {}\n",
    "    modeldirectory = os.path.join(directory, model)\n",
    "    modelexp_names = [ f.name for f in os.scandir(modeldirectory) if f.is_dir() and f.name !='.ipynb_checkpoints']\n",
    "    for exp in modelexp_names:\n",
    "        #print(exp)\n",
    "        experiments[model][exp] = {}\n",
    "        modelexpdirectory = os.path.join(modeldirectory, exp)\n",
    "        filenames = [f.name for f in os.scandir(modelexpdirectory) if f.name !='.ipynb_checkpoints']\n",
    "        \n",
    "        members = [file.rsplit('_')[2] for file in filenames]\n",
    "        members.sort()\n",
    "        experiments[model][exp] = members\n"
   ]
  },
  {
   "cell_type": "code",
   "execution_count": 4,
   "metadata": {},
   "outputs": [],
   "source": [
    "model_names.sort()"
   ]
  },
  {
   "cell_type": "code",
   "execution_count": 5,
   "metadata": {},
   "outputs": [
    {
     "data": {
      "text/plain": [
       "['ACCESS-CM2',\n",
       " 'ACCESS-ESM1-5',\n",
       " 'AWI-CM-1-1-MR',\n",
       " 'AWI-ESM-1-1-LR',\n",
       " 'BCC-CSM2-MR',\n",
       " 'BCC-ESM1',\n",
       " 'CAMS-CSM1-0',\n",
       " 'CAS-ESM2-0',\n",
       " 'CESM2',\n",
       " 'CESM2-FV2',\n",
       " 'CESM2-WACCM',\n",
       " 'CESM2-WACCM-FV2',\n",
       " 'CIESM',\n",
       " 'CMCC-CM2-SR5',\n",
       " 'CNRM-CM6-1',\n",
       " 'CNRM-CM6-1-HR',\n",
       " 'CNRM-ESM2-1',\n",
       " 'CanESM5',\n",
       " 'CanESM5-CanOE',\n",
       " 'E3SM-1-0',\n",
       " 'E3SM-1-1',\n",
       " 'E3SM-1-1-ECA',\n",
       " 'EC-Earth3',\n",
       " 'EC-Earth3-Veg',\n",
       " 'EC-Earth3-Veg-LR',\n",
       " 'FGOALS-f3-L',\n",
       " 'FGOALS-g3',\n",
       " 'FIO-ESM-2-0',\n",
       " 'GFDL-CM4',\n",
       " 'GFDL-ESM4',\n",
       " 'GISS-E2-1-G',\n",
       " 'GISS-E2-1-G-CC',\n",
       " 'GISS-E2-1-H',\n",
       " 'GISS-E2-2-G',\n",
       " 'HadGEM3-GC31-LL',\n",
       " 'HadGEM3-GC31-MM',\n",
       " 'IITM-ESM',\n",
       " 'INM-CM4-8',\n",
       " 'INM-CM5-0',\n",
       " 'IPSL-CM6A-LR',\n",
       " 'KACE-1-0-G',\n",
       " 'KIOST-ESM',\n",
       " 'MIROC-ES2L',\n",
       " 'MIROC6',\n",
       " 'MPI-ESM-1-2-HAM',\n",
       " 'MPI-ESM1-2-HR',\n",
       " 'MPI-ESM1-2-LR',\n",
       " 'MRI-ESM2-0',\n",
       " 'NESM3',\n",
       " 'NorCPM1',\n",
       " 'NorESM1-F',\n",
       " 'NorESM2-LM',\n",
       " 'NorESM2-MM',\n",
       " 'SAM0-UNICON',\n",
       " 'TaiESM1',\n",
       " 'UKESM1-0-LL']"
      ]
     },
     "execution_count": 5,
     "metadata": {},
     "output_type": "execute_result"
    }
   ],
   "source": [
    "model_names"
   ]
  },
  {
   "cell_type": "code",
   "execution_count": 6,
   "metadata": {},
   "outputs": [],
   "source": [
    "selected_models = ['AWI-ESM-1-1-LR',\n",
    " 'CAS-ESM2-0',\n",
    " 'CESM2-FV2',\n",
    " 'CESM2-WACCM-FV2',\n",
    " 'CIESM',\n",
    " 'CMCC-CM2-SR5',\n",
    " 'CanESM5-CanOE',\n",
    " 'E3SM-1-1',\n",
    " 'E3SM-1-1-ECA',\n",
    " 'EC-Earth3-Veg',\n",
    " 'EC-Earth3-Veg-LR',\n",
    " 'FGOALS-f3-L',\n",
    " 'FGOALS-g3',\n",
    " 'FIO-ESM-2-0',\n",
    " 'GISS-E2-1-G-CC',\n",
    " 'GISS-E2-1-H',\n",
    " 'GISS-E2-2-G',\n",
    " 'HadGEM3-GC31-MM',\n",
    " 'IITM-ESM',\n",
    " 'KACE-1-0-G',\n",
    " 'KIOST-ESM',\n",
    " 'MPI-ESM-1-2-HAM',\n",
    " 'NESM3',\n",
    " 'NorCPM1',\n",
    " 'NorESM1-F',\n",
    " 'SAM0-UNICON',\n",
    " 'TaiESM1']"
   ]
  },
  {
   "cell_type": "markdown",
   "metadata": {},
   "source": [
    "## Select model(s)"
   ]
  },
  {
   "cell_type": "code",
   "execution_count": 7,
   "metadata": {},
   "outputs": [
    {
     "data": {
      "text/plain": [
       "{'piControl': ['r1i1p1f1'],\n",
       " 'abrupt-4xCO2': ['r1i1p1f1'],\n",
       " 'historical': ['r1i1p1f1', 'r2i1p1f1', 'r3i1p1f1'],\n",
       " '1pctCO2': ['r1i1p1f1'],\n",
       " 'ssp370': ['r1i1p1f1', 'r2i1p1f1', 'r3i1p1f1']}"
      ]
     },
     "execution_count": 7,
     "metadata": {},
     "output_type": "execute_result"
    }
   ],
   "source": [
    "selected_models = ['MPI-ESM-1-2-HAM']\n",
    "experiments[model]"
   ]
  },
  {
   "cell_type": "code",
   "execution_count": 6,
   "metadata": {},
   "outputs": [],
   "source": [
    "col_url = \"https://storage.googleapis.com/cmip6/pangeo-cmip6.json\"\n",
    "col = intake.open_esm_datastore(col_url)"
   ]
  },
  {
   "cell_type": "code",
   "execution_count": 8,
   "metadata": {},
   "outputs": [
    {
     "name": "stdout",
     "output_type": "stream",
     "text": [
      "\n",
      "--> The keys in the returned dictionary of datasets are constructed as follows:\n",
      "\t'activity_id.institution_id.source_id.experiment_id.table_id.grid_label'\n"
     ]
    },
    {
     "data": {
      "text/html": [
       "\n",
       "    <div>\n",
       "        <style>\n",
       "            /* Turns off some styling */\n",
       "            progress {\n",
       "                /* gets rid of default border in Firefox and Opera. */\n",
       "                border: none;\n",
       "                /* Needs to be in here for Safari polyfill so background images work as expected. */\n",
       "                background-size: auto;\n",
       "            }\n",
       "            .progress-bar-interrupted, .progress-bar-interrupted::-webkit-progress-bar {\n",
       "                background: #F44336;\n",
       "            }\n",
       "        </style>\n",
       "      <progress value='1' class='' max='1' style='width:300px; height:20px; vertical-align: middle;'></progress>\n",
       "      100.00% [1/1 00:00<00:00]\n",
       "    </div>\n",
       "    "
      ],
      "text/plain": [
       "<IPython.core.display.HTML object>"
      ]
     },
     "metadata": {},
     "output_type": "display_data"
    },
    {
     "name": "stdout",
     "output_type": "stream",
     "text": [
      "MPI-ESM-1-2-HAM piControl r1i1p1f1 proleptic_gregorian\n",
      "\n",
      "--> The keys in the returned dictionary of datasets are constructed as follows:\n",
      "\t'activity_id.institution_id.source_id.experiment_id.table_id.grid_label'\n"
     ]
    },
    {
     "data": {
      "text/html": [
       "\n",
       "    <div>\n",
       "        <style>\n",
       "            /* Turns off some styling */\n",
       "            progress {\n",
       "                /* gets rid of default border in Firefox and Opera. */\n",
       "                border: none;\n",
       "                /* Needs to be in here for Safari polyfill so background images work as expected. */\n",
       "                background-size: auto;\n",
       "            }\n",
       "            .progress-bar-interrupted, .progress-bar-interrupted::-webkit-progress-bar {\n",
       "                background: #F44336;\n",
       "            }\n",
       "        </style>\n",
       "      <progress value='1' class='' max='1' style='width:300px; height:20px; vertical-align: middle;'></progress>\n",
       "      100.00% [1/1 00:00<00:00]\n",
       "    </div>\n",
       "    "
      ],
      "text/plain": [
       "<IPython.core.display.HTML object>"
      ]
     },
     "metadata": {},
     "output_type": "display_data"
    },
    {
     "name": "stdout",
     "output_type": "stream",
     "text": [
      "MPI-ESM-1-2-HAM abrupt-4xCO2 r1i1p1f1 proleptic_gregorian\n",
      "\n",
      "--> The keys in the returned dictionary of datasets are constructed as follows:\n",
      "\t'activity_id.institution_id.source_id.experiment_id.table_id.grid_label'\n"
     ]
    },
    {
     "data": {
      "text/html": [
       "\n",
       "    <div>\n",
       "        <style>\n",
       "            /* Turns off some styling */\n",
       "            progress {\n",
       "                /* gets rid of default border in Firefox and Opera. */\n",
       "                border: none;\n",
       "                /* Needs to be in here for Safari polyfill so background images work as expected. */\n",
       "                background-size: auto;\n",
       "            }\n",
       "            .progress-bar-interrupted, .progress-bar-interrupted::-webkit-progress-bar {\n",
       "                background: #F44336;\n",
       "            }\n",
       "        </style>\n",
       "      <progress value='1' class='' max='1' style='width:300px; height:20px; vertical-align: middle;'></progress>\n",
       "      100.00% [1/1 00:00<00:00]\n",
       "    </div>\n",
       "    "
      ],
      "text/plain": [
       "<IPython.core.display.HTML object>"
      ]
     },
     "metadata": {},
     "output_type": "display_data"
    },
    {
     "name": "stdout",
     "output_type": "stream",
     "text": [
      "MPI-ESM-1-2-HAM historical r1i1p1f1 proleptic_gregorian\n",
      "\n",
      "--> The keys in the returned dictionary of datasets are constructed as follows:\n",
      "\t'activity_id.institution_id.source_id.experiment_id.table_id.grid_label'\n"
     ]
    },
    {
     "data": {
      "text/html": [
       "\n",
       "    <div>\n",
       "        <style>\n",
       "            /* Turns off some styling */\n",
       "            progress {\n",
       "                /* gets rid of default border in Firefox and Opera. */\n",
       "                border: none;\n",
       "                /* Needs to be in here for Safari polyfill so background images work as expected. */\n",
       "                background-size: auto;\n",
       "            }\n",
       "            .progress-bar-interrupted, .progress-bar-interrupted::-webkit-progress-bar {\n",
       "                background: #F44336;\n",
       "            }\n",
       "        </style>\n",
       "      <progress value='1' class='' max='1' style='width:300px; height:20px; vertical-align: middle;'></progress>\n",
       "      100.00% [1/1 00:00<00:00]\n",
       "    </div>\n",
       "    "
      ],
      "text/plain": [
       "<IPython.core.display.HTML object>"
      ]
     },
     "metadata": {},
     "output_type": "display_data"
    },
    {
     "name": "stdout",
     "output_type": "stream",
     "text": [
      "MPI-ESM-1-2-HAM historical r2i1p1f1 proleptic_gregorian\n",
      "\n",
      "--> The keys in the returned dictionary of datasets are constructed as follows:\n",
      "\t'activity_id.institution_id.source_id.experiment_id.table_id.grid_label'\n"
     ]
    },
    {
     "data": {
      "text/html": [
       "\n",
       "    <div>\n",
       "        <style>\n",
       "            /* Turns off some styling */\n",
       "            progress {\n",
       "                /* gets rid of default border in Firefox and Opera. */\n",
       "                border: none;\n",
       "                /* Needs to be in here for Safari polyfill so background images work as expected. */\n",
       "                background-size: auto;\n",
       "            }\n",
       "            .progress-bar-interrupted, .progress-bar-interrupted::-webkit-progress-bar {\n",
       "                background: #F44336;\n",
       "            }\n",
       "        </style>\n",
       "      <progress value='1' class='' max='1' style='width:300px; height:20px; vertical-align: middle;'></progress>\n",
       "      100.00% [1/1 00:00<00:00]\n",
       "    </div>\n",
       "    "
      ],
      "text/plain": [
       "<IPython.core.display.HTML object>"
      ]
     },
     "metadata": {},
     "output_type": "display_data"
    },
    {
     "name": "stdout",
     "output_type": "stream",
     "text": [
      "MPI-ESM-1-2-HAM historical r3i1p1f1 proleptic_gregorian\n",
      "\n",
      "--> The keys in the returned dictionary of datasets are constructed as follows:\n",
      "\t'activity_id.institution_id.source_id.experiment_id.table_id.grid_label'\n"
     ]
    },
    {
     "data": {
      "text/html": [
       "\n",
       "    <div>\n",
       "        <style>\n",
       "            /* Turns off some styling */\n",
       "            progress {\n",
       "                /* gets rid of default border in Firefox and Opera. */\n",
       "                border: none;\n",
       "                /* Needs to be in here for Safari polyfill so background images work as expected. */\n",
       "                background-size: auto;\n",
       "            }\n",
       "            .progress-bar-interrupted, .progress-bar-interrupted::-webkit-progress-bar {\n",
       "                background: #F44336;\n",
       "            }\n",
       "        </style>\n",
       "      <progress value='1' class='' max='1' style='width:300px; height:20px; vertical-align: middle;'></progress>\n",
       "      100.00% [1/1 00:00<00:00]\n",
       "    </div>\n",
       "    "
      ],
      "text/plain": [
       "<IPython.core.display.HTML object>"
      ]
     },
     "metadata": {},
     "output_type": "display_data"
    },
    {
     "name": "stdout",
     "output_type": "stream",
     "text": [
      "MPI-ESM-1-2-HAM 1pctCO2 r1i1p1f1 proleptic_gregorian\n",
      "\n",
      "--> The keys in the returned dictionary of datasets are constructed as follows:\n",
      "\t'activity_id.institution_id.source_id.experiment_id.table_id.grid_label'\n"
     ]
    },
    {
     "data": {
      "text/html": [
       "\n",
       "    <div>\n",
       "        <style>\n",
       "            /* Turns off some styling */\n",
       "            progress {\n",
       "                /* gets rid of default border in Firefox and Opera. */\n",
       "                border: none;\n",
       "                /* Needs to be in here for Safari polyfill so background images work as expected. */\n",
       "                background-size: auto;\n",
       "            }\n",
       "            .progress-bar-interrupted, .progress-bar-interrupted::-webkit-progress-bar {\n",
       "                background: #F44336;\n",
       "            }\n",
       "        </style>\n",
       "      <progress value='1' class='' max='1' style='width:300px; height:20px; vertical-align: middle;'></progress>\n",
       "      100.00% [1/1 00:00<00:00]\n",
       "    </div>\n",
       "    "
      ],
      "text/plain": [
       "<IPython.core.display.HTML object>"
      ]
     },
     "metadata": {},
     "output_type": "display_data"
    },
    {
     "name": "stdout",
     "output_type": "stream",
     "text": [
      "MPI-ESM-1-2-HAM ssp370 r1i1p1f1 proleptic_gregorian\n",
      "\n",
      "--> The keys in the returned dictionary of datasets are constructed as follows:\n",
      "\t'activity_id.institution_id.source_id.experiment_id.table_id.grid_label'\n"
     ]
    },
    {
     "data": {
      "text/html": [
       "\n",
       "    <div>\n",
       "        <style>\n",
       "            /* Turns off some styling */\n",
       "            progress {\n",
       "                /* gets rid of default border in Firefox and Opera. */\n",
       "                border: none;\n",
       "                /* Needs to be in here for Safari polyfill so background images work as expected. */\n",
       "                background-size: auto;\n",
       "            }\n",
       "            .progress-bar-interrupted, .progress-bar-interrupted::-webkit-progress-bar {\n",
       "                background: #F44336;\n",
       "            }\n",
       "        </style>\n",
       "      <progress value='1' class='' max='1' style='width:300px; height:20px; vertical-align: middle;'></progress>\n",
       "      100.00% [1/1 00:00<00:00]\n",
       "    </div>\n",
       "    "
      ],
      "text/plain": [
       "<IPython.core.display.HTML object>"
      ]
     },
     "metadata": {},
     "output_type": "display_data"
    },
    {
     "name": "stdout",
     "output_type": "stream",
     "text": [
      "MPI-ESM-1-2-HAM ssp370 r2i1p1f1 proleptic_gregorian\n",
      "\n",
      "--> The keys in the returned dictionary of datasets are constructed as follows:\n",
      "\t'activity_id.institution_id.source_id.experiment_id.table_id.grid_label'\n"
     ]
    },
    {
     "data": {
      "text/html": [
       "\n",
       "    <div>\n",
       "        <style>\n",
       "            /* Turns off some styling */\n",
       "            progress {\n",
       "                /* gets rid of default border in Firefox and Opera. */\n",
       "                border: none;\n",
       "                /* Needs to be in here for Safari polyfill so background images work as expected. */\n",
       "                background-size: auto;\n",
       "            }\n",
       "            .progress-bar-interrupted, .progress-bar-interrupted::-webkit-progress-bar {\n",
       "                background: #F44336;\n",
       "            }\n",
       "        </style>\n",
       "      <progress value='1' class='' max='1' style='width:300px; height:20px; vertical-align: middle;'></progress>\n",
       "      100.00% [1/1 00:00<00:00]\n",
       "    </div>\n",
       "    "
      ],
      "text/plain": [
       "<IPython.core.display.HTML object>"
      ]
     },
     "metadata": {},
     "output_type": "display_data"
    },
    {
     "name": "stdout",
     "output_type": "stream",
     "text": [
      "MPI-ESM-1-2-HAM ssp370 r3i1p1f1 proleptic_gregorian\n"
     ]
    }
   ],
   "source": [
    "# loop through models instead\n",
    "    \n",
    "#for model in model_names:\n",
    "for model in selected_models:\n",
    "    filename = '../Processed_data/Calendars/' + model + '_calendars.txt'\n",
    "    column_names = ['model', 'exp', 'member', 'calendar']\n",
    "    df = pd.DataFrame(columns = column_names)\n",
    "\n",
    "    #for model in experiments:\n",
    "    for exp in experiments[model]:\n",
    "            for member in experiments[model][exp]:\n",
    "                cat = col.search(experiment_id = exp, variable_id='tas', table_id='Amon', source_id = model, member_id = member)\n",
    "                dset_dict = cat.to_dataset_dict(zarr_kwargs={'consolidated': True}, cdf_kwargs={'chunks': {}})\n",
    "                for key in dset_dict.keys():\n",
    "                    ds = dset_dict[key]\n",
    "\n",
    "                calendar = ds.time.encoding['calendar']\n",
    "                print(model, exp, member, calendar)\n",
    "                df_row = pd.DataFrame([[model, exp, member, calendar]] ,columns = column_names)\n",
    "                df = df.append(df_row, ignore_index = True)\n",
    "    df.to_csv(filename, ' ')\n",
    "                \n"
   ]
  },
  {
   "cell_type": "code",
   "execution_count": 21,
   "metadata": {},
   "outputs": [],
   "source": [
    "def calendar_check_new(model):\n",
    "    calendarfile = '../Processed_data/Calendars/' + model + '_calendars.txt'\n",
    "    cal_df = pd.read_table(calendarfile, index_col=0, sep = ' ')\n",
    "    calendars_used = cal_df['calendar'].drop_duplicates()\n",
    "    # I think 365 days calendar must be the same as noleap\n",
    "    return calendars_used.values\n",
    "\n",
    "def calendar_check_old(model):\n",
    "    # Time formats for piControl, found from manual check:\n",
    "    if model in ['TaiESM1', 'BCC-CSM2-MR', 'BCC-ESM1', 'CAMS-CSM1-0', 'CAS-ESM2-0', 'FGOALS-f3-L', 'FGOALS-g3', 'CanESM5', 'CanESM5-CanOE', 'E3SM-1-0', 'E3SM-1-1', 'E3SM-1-1-ECA', 'FIO-ESM-2-0', 'INM-CM4-8', 'INM-CM5-0', 'GISS-E2-1-G', 'GISS-E2-1-G-CC', 'GISS-E2-1-H', 'GISS-E2-2-G', 'CESM2', 'CESM2-FV2', 'CESM2-WACCM', 'CESM2-WACCM-FV2', 'NorCPM1', 'NorESM1-F', 'NorESM2-LM', 'NorESM2-MM', 'GFDL-CM4', 'SAM0-UNICON', 'GFDL-ESM4', 'CIESM', 'MCM-UA-1-0']:\n",
    "        ds_calendar = 'noleap'\n",
    "    elif model in ['EC-Earth3', 'CNRM-CM6-1', 'IPSL-CM6A-LR', 'MIROC-ES2L', 'MIROC6', 'NESM3']: # 'IPSL-CM6A-LR':'piClim-4xCO2','piClim-control' says noleap calendar\n",
    "        ds_calendar = 'gregorian'\n",
    "    elif model in ['AWI-CM-1-1-MR', 'EC-Earth3-Veg', 'EC-Earth3-Veg-LR', 'ACCESS-ESM1-5', 'ACCESS-CM2', 'MPI-ESM-1-2-HAM', 'MPI-ESM1-2-LR', 'MPI-ESM1-2-HR', 'EC-Earth3-LR']:\n",
    "        ds_calendar = 'proleptic_gregorian'\n",
    "    elif model in ['UKESM1-0-LL', 'HadGEM3-GC31-LL', 'HadGEM3-GC31-MM', 'CNRM-ESM2-1', 'KACE-1-0-G', 'MRI-ESM2-0']:\n",
    "        ds_calendar = '360_day'\n",
    "        if model in ['CNRM-ESM2-1', 'MRI-ESM2-0']:\n",
    "            print('piControl is 360_day, the other experiments unknown')\n",
    "    elif model in ['IITM-ESM']:\n",
    "        ds_calendar = 'julian'\n",
    "    elif model in ['AWI-ESM-1-1-LR', 'CNRM-CM6-1-HR', 'EC-Earth3', 'EC-Earth3-LR']:\n",
    "        #ds_calendar = 'datetime64'\n",
    "        print('not 100% sure what calendar this model has, but a guess is made based on other models from same institution')\n",
    "        if model in ['AWI-ESM-1-1-LR']:\n",
    "            print('calendar is likely proleptic gregorian')\n",
    "            ds_calendar = 'proleptic_gregorian'\n",
    "        elif model in ['CNRM-CM6-1-HR']:\n",
    "            print('calendar is likely gregorian')\n",
    "            ds_calendar = 'gregorian'\n",
    "    return ds_calendar"
   ]
  },
  {
   "cell_type": "code",
   "execution_count": 22,
   "metadata": {},
   "outputs": [
    {
     "name": "stdout",
     "output_type": "stream",
     "text": [
      "ACCESS-CM2 ['proleptic_gregorian'] with old function: proleptic_gregorian\n",
      "ACCESS-ESM1-5 ['proleptic_gregorian'] with old function: proleptic_gregorian\n",
      "AWI-CM-1-1-MR ['proleptic_gregorian'] with old function: proleptic_gregorian\n",
      "not 100% sure what calendar this model has, but a guess is made based on other models from same institution\n",
      "calendar is likely proleptic gregorian\n",
      "AWI-ESM-1-1-LR ['proleptic_gregorian'] with old function: proleptic_gregorian\n",
      "BCC-CSM2-MR ['365_day'] with old function: noleap\n",
      "BCC-ESM1 ['noleap' '365_day'] with old function: noleap\n",
      "CAMS-CSM1-0 ['noleap' '365_day'] with old function: noleap\n",
      "CESM2 ['noleap'] with old function: noleap\n",
      "CESM2-FV2 ['noleap'] with old function: noleap\n",
      "CESM2-WACCM ['noleap' '365_day'] with old function: noleap\n",
      "CESM2-WACCM-FV2 ['noleap'] with old function: noleap\n",
      "CNRM-CM6-1 ['gregorian'] with old function: gregorian\n",
      "not 100% sure what calendar this model has, but a guess is made based on other models from same institution\n",
      "calendar is likely gregorian\n",
      "CNRM-CM6-1-HR ['gregorian'] with old function: gregorian\n",
      "piControl is 360_day, the other experiments unknown\n",
      "CNRM-ESM2-1 ['gregorian' 'proleptic_gregorian' '360_day'] with old function: 360_day\n",
      "CanESM5 ['noleap' '365_day'] with old function: noleap\n",
      "E3SM-1-0 ['noleap'] with old function: noleap\n",
      "E3SM-1-1 ['noleap'] with old function: noleap\n",
      "E3SM-1-1-ECA ['noleap'] with old function: noleap\n",
      "EC-Earth3 ['proleptic_gregorian' 'gregorian'] with old function: gregorian\n",
      "EC-Earth3-Veg ['proleptic_gregorian'] with old function: proleptic_gregorian\n",
      "FGOALS-g3 ['noleap'] with old function: noleap\n",
      "GFDL-CM4 ['noleap'] with old function: noleap\n",
      "GFDL-ESM4 ['noleap'] with old function: noleap\n",
      "GISS-E2-1-G ['noleap'] with old function: noleap\n",
      "GISS-E2-1-G-CC ['noleap'] with old function: noleap\n",
      "GISS-E2-1-H ['noleap'] with old function: noleap\n",
      "GISS-E2-2-G ['noleap'] with old function: noleap\n",
      "HadGEM3-GC31-LL ['360_day'] with old function: 360_day\n",
      "HadGEM3-GC31-MM ['360_day'] with old function: 360_day\n",
      "IITM-ESM ['julian'] with old function: julian\n",
      "INM-CM4-8 ['noleap'] with old function: noleap\n",
      "INM-CM5-0 ['noleap'] with old function: noleap\n",
      "IPSL-CM6A-LR ['noleap' 'gregorian' 'proleptic_gregorian'] with old function: gregorian\n",
      "KACE-1-0-G ['360_day'] with old function: 360_day\n",
      "MIROC-ES2L ['gregorian'] with old function: gregorian\n",
      "MIROC6 ['gregorian' 'proleptic_gregorian'] with old function: gregorian\n",
      "MPI-ESM-1-2-HAM ['proleptic_gregorian'] with old function: proleptic_gregorian\n",
      "MPI-ESM1-2-HR ['proleptic_gregorian'] with old function: proleptic_gregorian\n",
      "MPI-ESM1-2-LR ['proleptic_gregorian'] with old function: proleptic_gregorian\n",
      "piControl is 360_day, the other experiments unknown\n",
      "MRI-ESM2-0 ['proleptic_gregorian' '360_day'] with old function: 360_day\n",
      "NESM3 ['gregorian' 'standard'] with old function: gregorian\n",
      "NorCPM1 ['noleap'] with old function: noleap\n",
      "NorESM1-F ['noleap'] with old function: noleap\n",
      "NorESM2-LM ['noleap'] with old function: noleap\n",
      "NorESM2-MM ['noleap'] with old function: noleap\n",
      "SAM0-UNICON ['noleap'] with old function: noleap\n",
      "TaiESM1 ['noleap'] with old function: noleap\n",
      "UKESM1-0-LL ['360_day'] with old function: 360_day\n"
     ]
    }
   ],
   "source": [
    "for model in model_names:\n",
    "    cals = calendar_check_new(model)\n",
    "    print(model, cals, 'with old function:', calendar_check_old(model))\n",
    "    # may need to check data for models:\n",
    "    # CNRM-ESM2-1 ['gregorian' 'proleptic_gregorian' '360_day'] with old function: 360_day\n",
    "    # EC-Earth3 ['proleptic_gregorian' 'gregorian'] with old function: gregorian\n",
    "    # IPSL-CM6A-LR ['noleap' 'gregorian' 'proleptic_gregorian'] with old function: gregorian\n",
    "    # MIROC6 ['gregorian' 'proleptic_gregorian'] with old function: gregorian\n",
    "    # MRI-ESM2-0 ['proleptic_gregorian' '360_day'] with old function: 360_day. I changed all data to use 'proleptic_gregorian' in averaging\n",
    "    # NESM3 ['gregorian' 'standard'] with old function: gregorian. Check what 'standard' means"
   ]
  },
  {
   "cell_type": "code",
   "execution_count": null,
   "metadata": {},
   "outputs": [],
   "source": []
  }
 ],
 "metadata": {
  "kernelspec": {
   "display_name": "Python [conda env:CMIP6_hege]",
   "language": "python",
   "name": "conda-env-CMIP6_hege-py"
  },
  "language_info": {
   "codemirror_mode": {
    "name": "ipython",
    "version": 3
   },
   "file_extension": ".py",
   "mimetype": "text/x-python",
   "name": "python",
   "nbconvert_exporter": "python",
   "pygments_lexer": "ipython3",
   "version": "3.6.10"
  }
 },
 "nbformat": 4,
 "nbformat_minor": 4
}
