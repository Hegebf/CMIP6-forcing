{
 "cells": [
  {
   "cell_type": "markdown",
   "metadata": {},
   "source": [
    "# Search ESGF, using esgf-pyclient"
   ]
  },
  {
   "cell_type": "code",
   "execution_count": null,
   "metadata": {},
   "outputs": [],
   "source": [
    "from pyesgf.search import SearchConnection\n",
    "import json\n",
    "import pandas as pd\n",
    "#import numpy as np\n",
    "#conn = SearchConnection('https://esgf-data.dkrz.de/esg-search', distrib=True)\n",
    "conn = SearchConnection('https://esgf-node.llnl.gov/esg-search', distrib=True) \n",
    "# choose True to search all nodes(?)\n",
    "\n",
    "# can we be sure to get all models and members when \n",
    "# searching only https://esgf-node.llnl.gov/esg-search ?\n"
   ]
  },
  {
   "cell_type": "code",
   "execution_count": null,
   "metadata": {},
   "outputs": [],
   "source": [
    "variable_list = ['tas','rlut','rsut','rsdt']\n",
    "experiment_list = ['piControl', 'abrupt-4xCO2', '1pctCO2',\\\n",
    "                   'abrupt-2xCO2', 'abrupt-0p5xCO2',\\\n",
    "                   'historical', 'hist-GHG', 'hist-nat', 'hist-aer',\\\n",
    "                  'ssp119', 'ssp126', 'ssp245', 'ssp370', 'ssp585',\\\n",
    "                  'piClim-control', 'piClim-4xCO2', 'piClim-histall']\n",
    "\n",
    "# functions:\n",
    "def context_to_df(context):\n",
    "    column_names = ['exp', 'source_id', 'member_id', 'variable', 'version', 'node']\n",
    "    df = pd.DataFrame(columns = column_names)\n",
    "    for i in range(context.hit_count): # this may take a while\n",
    "        if i%50 == 0 and i>0:\n",
    "            print(i)\n",
    "        result = context.search()[i].dataset_id # this is the time consuming part\n",
    "        info_split = result.rsplit(\"|\")\n",
    "        node = info_split[-1]\n",
    "        id_str = info_split[0].rsplit(\".\")\n",
    "        source_id = id_str[3]; exp = id_str[4]; member = id_str[5];\n",
    "        var = id_str[7]; version = id_str[9];\n",
    "        df_row = pd.DataFrame([[exp, source_id, member, var, version, node]], columns = column_names)\n",
    "        df = pd.concat((df, df_row), ignore_index = True)\n",
    "    return df"
   ]
  },
  {
   "cell_type": "code",
   "execution_count": null,
   "metadata": {},
   "outputs": [],
   "source": [
    "# find first the models that have the variable 'tas' for both piControl and abrupt-4xCO2\n",
    "exp_dict = {}\n",
    "for experiment in ['piControl', 'abrupt-4xCO2']:\n",
    "    ctx = conn.new_context(project='CMIP6', table_id = 'Amon',\\\n",
    "                           latest=True, replica=True, # need to search replicas at least for E3SM-1-0\n",
    "                           experiment_id=experiment, variable='tas')\n",
    "    print('Found', ctx.hit_count, 'results of \"tas\" for experiment', experiment)\n",
    "    df = context_to_df(ctx)\n",
    "    models = df['source_id'].unique()\n",
    "    # save as json file\n",
    "    exp_dict[experiment] = list(models)\n",
    "    with open('../Processed_data/Data_availability/esgf-'+ experiment+'_models.json', 'w') as f:\n",
    "        json.dump(exp_dict, f, indent=2)\n"
   ]
  },
  {
   "cell_type": "code",
   "execution_count": null,
   "metadata": {},
   "outputs": [],
   "source": [
    "with open('../Processed_data/Data_availability/ESGF/esgf-piControl_models.json', 'r') as f:\n",
    "        piControl_models  = json.load(f)\n",
    "with open('../Processed_data/Data_availability/ESGF/esgf-abrupt-4xCO2_models.json', 'r') as f:\n",
    "        abrupt4xCO2_models = json.load(f)\n",
    "models = list(set.intersection(set(piControl_models['piControl']), set(abrupt4xCO2_models['abrupt-4xCO2'])))\n",
    "models.sort()\n",
    "\n",
    "#for experiment in [experiment_list[14]]:\n",
    "for experiment in experiment_list[14:]:\n",
    "    exp_dict = {}\n",
    "    for model in models:\n",
    "        exp_dict[model] = {}\n",
    "        # make new search for each model, hoping that \n",
    "        # smaller searches will be less time-consuming.\n",
    "        # check only original records initially (no replicas).\n",
    "        replica_search = False\n",
    "        ctx = conn.new_context(project='CMIP6', table_id = 'Amon',\\\n",
    "                           latest=True, replica=False, source_id = model,\\\n",
    "                           experiment_id=experiment, variable=variable_list)\n",
    "        print('Found', ctx.hit_count, 'results for', model, experiment)\n",
    "        if ctx.hit_count == 0:\n",
    "            # does this happen just because the website is unstable??\n",
    "            # because it happens only sometimes...\n",
    "            \n",
    "            print('Searching in replicas instead:')\n",
    "            ctx = conn.new_context(project='CMIP6', table_id = 'Amon',\\\n",
    "                           latest=True, replica=True, source_id = model,\\\n",
    "                           experiment_id=experiment, variable=variable_list)    \n",
    "            print('Found', ctx.hit_count, 'replica results for', model, experiment)\n",
    "            replica_search = True\n",
    "        model_df = context_to_df(ctx)\n",
    "        \n",
    "        members = list(model_df['member_id'].unique())\n",
    "        members.sort()\n",
    "        for member in members: # check that each member has all 4 variables\n",
    "            member_df = model_df[model_df['member_id'] == member]\n",
    "            member_vars = model_df['variable'].unique()\n",
    "            if len(member_vars) < len(variable_list):\n",
    "                print(experiment, model, member, 'has only the variables', member_vars)\n",
    "                # check for other variables in replicas (unless we have done so already):\n",
    "                if replica_search == False:\n",
    "                    ctx_member = conn.new_context(project='CMIP6', table_id = 'Amon',\\\n",
    "                           latest=True, source_id = model, variant_label = member,\\\n",
    "                           experiment_id=experiment, variable=variable_list)\n",
    "                member_df = context_to_df(ctx_member)\n",
    "                member_vars = member_df['variable'].unique()\n",
    "                if len(member_vars) < len(variable_list):\n",
    "                    print('found no replicas containing all variables')\n",
    "                    #members.remove(member)\n",
    "                else:\n",
    "                    print('all variables exist in replicas')\n",
    "                    latest_version = member_df['version'].unique()\n",
    "                    exp_dict[model][member] = list(latest_version)\n",
    "            else:\n",
    "                latest_version = member_df['version'].unique()\n",
    "                exp_dict[model][member] = list(latest_version)\n",
    "        #exp_dict[model] = members\n",
    "        \n",
    "        \n",
    "    with open('../Processed_data/Data_availability/ESGF/esgf-'+ experiment+'.json', 'w') as f:\n",
    "        json.dump(exp_dict, f, indent=2)\n",
    "        \n",
    "        "
   ]
  },
  {
   "cell_type": "code",
   "execution_count": null,
   "metadata": {},
   "outputs": [],
   "source": [
    "exp_dict"
   ]
  },
  {
   "cell_type": "code",
   "execution_count": null,
   "metadata": {},
   "outputs": [],
   "source": []
  }
 ],
 "metadata": {
  "kernelspec": {
   "display_name": "Python [conda env:CMIP6_hege]",
   "language": "python",
   "name": "conda-env-CMIP6_hege-py"
  },
  "language_info": {
   "codemirror_mode": {
    "name": "ipython",
    "version": 3
   },
   "file_extension": ".py",
   "mimetype": "text/x-python",
   "name": "python",
   "nbconvert_exporter": "python",
   "pygments_lexer": "ipython3",
   "version": "3.6.10"
  }
 },
 "nbformat": 4,
 "nbformat_minor": 5
}
