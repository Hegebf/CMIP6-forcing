{
 "cells": [
  {
   "cell_type": "markdown",
   "metadata": {},
   "source": [
    "# Global averaging of data in Google Cloud"
   ]
  },
  {
   "cell_type": "code",
   "execution_count": null,
   "metadata": {},
   "outputs": [],
   "source": [
    "import numpy as np\n",
    "import pandas as pd\n",
    "import xarray as xr\n",
    "import intake\n",
    "import json\n",
    "import os\n",
    "import importlib\n",
    "\n",
    "from global_annual_means import *\n",
    "\n",
    "experiment_list = ['piControl', 'abrupt-4xCO2', '1pctCO2',\\\n",
    "                   'abrupt-2xCO2', 'abrupt-0p5xCO2',\\\n",
    "                   'historical', 'hist-GHG', 'hist-nat', 'hist-aer',\\\n",
    "                  'ssp119', 'ssp126', 'ssp245', 'ssp370', 'ssp585',\\\n",
    "                  'piClim-control', 'piClim-4xCO2', 'piClim-histall']\n",
    "\n",
    "# for some reason this function could not be loaded from a .py file,\n",
    "# it may have something to do with the function loading of another file\n",
    "def error_test(exp, model, member):\n",
    "    with open('../Data_availability/GoogleCloud/cloud-buterrors.json', 'r') as f:\n",
    "         error_data_dict = json.load(f)\n",
    "    if exp in error_data_dict:\n",
    "        if model in error_data_dict[exp]:\n",
    "            if member in error_data_dict[exp][model]:\n",
    "                return True\n",
    "\n",
    "col_url = \"https://storage.googleapis.com/cmip6/pangeo-cmip6.json\"\n",
    "col = intake.open_esm_datastore(col_url)\n",
    "col"
   ]
  },
  {
   "cell_type": "code",
   "execution_count": null,
   "metadata": {},
   "outputs": [],
   "source": [
    "experiment_list[2]"
   ]
  },
  {
   "cell_type": "code",
   "execution_count": null,
   "metadata": {},
   "outputs": [],
   "source": [
    "importlib.reload(global_annual_means)\n",
    "\n",
    "#for exp in experiment_list:\n",
    "for exp in [experiment_list[2]]:\n",
    "    with open('../Data_availability/GoogleCloud/cloud-'+exp+'.json', 'r') as f:\n",
    "         data_dict = json.load(f)\n",
    "    print(exp, data_dict)\n",
    "    #for model in ['NorCPM1']:\n",
    "    for model in data_dict:\n",
    "        #if model not in ['EC-Earth3','EC-Earth3-Veg']:\n",
    "        for member in data_dict[model]:\n",
    "            if error_test(exp, model, member) == True:\n",
    "                print(exp, model, member, 'skipped because it contains errors')\n",
    "                continue\n",
    "\n",
    "            filename = model + '_' + exp + '_' + str(member) + '_means.csv'\n",
    "            filepath = os.path.join('../Processed_data/Global_annual_means_csv/', model, exp)\n",
    "            # check if file exists already:\n",
    "            if os.path.isfile(filepath + '/' + filename):\n",
    "                print(exp, model, member, 'global means already exist, and will therefore not be computed')\n",
    "                continue\n",
    "            else:\n",
    "                print(exp, model, member)\n",
    "            if sepvar_test(exp, model, member) == True:\n",
    "                # load each variable separately because of an error in the time coordinates\n",
    "                avg_df = global_average_sepvar(exp, model, member)\n",
    "            else:\n",
    "                ds = ds_cloud(exp, model, member)\n",
    "                avg_df = global_averaging(ds)\n",
    "\n",
    "            # save dataframe as csv:\n",
    "            if os.path.isdir(filepath) == False:\n",
    "                os.makedirs(filepath)\n",
    "            avg_df.to_csv(filepath + '/' + filename)\n"
   ]
  },
  {
   "cell_type": "code",
   "execution_count": null,
   "metadata": {},
   "outputs": [],
   "source": [
    "avg_df"
   ]
  },
  {
   "cell_type": "code",
   "execution_count": null,
   "metadata": {},
   "outputs": [],
   "source": [
    "ds"
   ]
  },
  {
   "cell_type": "code",
   "execution_count": null,
   "metadata": {},
   "outputs": [],
   "source": []
  }
 ],
 "metadata": {
  "kernelspec": {
   "display_name": "Python [conda env:CMIP6_hege]",
   "language": "python",
   "name": "conda-env-CMIP6_hege-py"
  },
  "language_info": {
   "codemirror_mode": {
    "name": "ipython",
    "version": 3
   },
   "file_extension": ".py",
   "mimetype": "text/x-python",
   "name": "python",
   "nbconvert_exporter": "python",
   "pygments_lexer": "ipython3",
   "version": "3.6.10"
  }
 },
 "nbformat": 4,
 "nbformat_minor": 4
}
