{
 "cells": [
  {
   "cell_type": "markdown",
   "metadata": {},
   "source": [
    "# Global averaging of data in Google Cloud"
   ]
  },
  {
   "cell_type": "code",
   "execution_count": 1,
   "metadata": {},
   "outputs": [
    {
     "data": {
      "text/html": [
       "<p><strong>pangeo-cmip6 catalog with 7689 dataset(s) from 514968 asset(s)</strong>:</p> <div>\n",
       "<style scoped>\n",
       "    .dataframe tbody tr th:only-of-type {\n",
       "        vertical-align: middle;\n",
       "    }\n",
       "\n",
       "    .dataframe tbody tr th {\n",
       "        vertical-align: top;\n",
       "    }\n",
       "\n",
       "    .dataframe thead th {\n",
       "        text-align: right;\n",
       "    }\n",
       "</style>\n",
       "<table border=\"1\" class=\"dataframe\">\n",
       "  <thead>\n",
       "    <tr style=\"text-align: right;\">\n",
       "      <th></th>\n",
       "      <th>unique</th>\n",
       "    </tr>\n",
       "  </thead>\n",
       "  <tbody>\n",
       "    <tr>\n",
       "      <th>activity_id</th>\n",
       "      <td>18</td>\n",
       "    </tr>\n",
       "    <tr>\n",
       "      <th>institution_id</th>\n",
       "      <td>36</td>\n",
       "    </tr>\n",
       "    <tr>\n",
       "      <th>source_id</th>\n",
       "      <td>88</td>\n",
       "    </tr>\n",
       "    <tr>\n",
       "      <th>experiment_id</th>\n",
       "      <td>170</td>\n",
       "    </tr>\n",
       "    <tr>\n",
       "      <th>member_id</th>\n",
       "      <td>657</td>\n",
       "    </tr>\n",
       "    <tr>\n",
       "      <th>table_id</th>\n",
       "      <td>37</td>\n",
       "    </tr>\n",
       "    <tr>\n",
       "      <th>variable_id</th>\n",
       "      <td>700</td>\n",
       "    </tr>\n",
       "    <tr>\n",
       "      <th>grid_label</th>\n",
       "      <td>10</td>\n",
       "    </tr>\n",
       "    <tr>\n",
       "      <th>zstore</th>\n",
       "      <td>514968</td>\n",
       "    </tr>\n",
       "    <tr>\n",
       "      <th>dcpp_init_year</th>\n",
       "      <td>60</td>\n",
       "    </tr>\n",
       "    <tr>\n",
       "      <th>version</th>\n",
       "      <td>737</td>\n",
       "    </tr>\n",
       "  </tbody>\n",
       "</table>\n",
       "</div>"
      ],
      "text/plain": [
       "<IPython.core.display.HTML object>"
      ]
     },
     "metadata": {},
     "output_type": "display_data"
    }
   ],
   "source": [
    "import numpy as np\n",
    "import pandas as pd\n",
    "import xarray as xr\n",
    "import intake\n",
    "import json\n",
    "import os\n",
    "import importlib\n",
    "import global_annual_means\n",
    "from global_annual_means import *\n",
    "\n",
    "experiment_list = ['piControl', 'abrupt-4xCO2', '1pctCO2',\\\n",
    "                   'abrupt-2xCO2', 'abrupt-0p5xCO2',\\\n",
    "                   'historical', 'hist-GHG', 'hist-nat', 'hist-aer',\\\n",
    "                  'ssp119', 'ssp126', 'ssp245', 'ssp370', 'ssp585',\\\n",
    "                  'piClim-control', 'piClim-4xCO2', 'piClim-histall']\n",
    "\n",
    "# for some reason this function could not be loaded from a .py file,\n",
    "# it may have something to do with the function loading of another file\n",
    "def error_test(exp, model, member):\n",
    "    with open('../Data_availability/GoogleCloud/cloud-buterrors.json', 'r') as f:\n",
    "         error_data_dict = json.load(f)\n",
    "    if exp in error_data_dict:\n",
    "        if model in error_data_dict[exp]:\n",
    "            if member in error_data_dict[exp][model]:\n",
    "                return True\n",
    "\n",
    "col_url = \"https://storage.googleapis.com/cmip6/pangeo-cmip6.json\"\n",
    "col = intake.open_esm_datastore(col_url)\n",
    "col"
   ]
  },
  {
   "cell_type": "code",
   "execution_count": 2,
   "metadata": {},
   "outputs": [
    {
     "data": {
      "text/plain": [
       "'historical'"
      ]
     },
     "execution_count": 2,
     "metadata": {},
     "output_type": "execute_result"
    }
   ],
   "source": [
    "experiment_list[5]"
   ]
  },
  {
   "cell_type": "code",
   "execution_count": 6,
   "metadata": {},
   "outputs": [
    {
     "name": "stdout",
     "output_type": "stream",
     "text": [
      "historical EC-Earth3 r13i1p1f1 global means already exist, and will therefore not be computed\n",
      "\n",
      "--> The keys in the returned dictionary of datasets are constructed as follows:\n",
      "\t'activity_id.institution_id.source_id.experiment_id.table_id.grid_label'\n"
     ]
    },
    {
     "data": {
      "text/html": [
       "\n",
       "    <div>\n",
       "        <style>\n",
       "            /* Turns off some styling */\n",
       "            progress {\n",
       "                /* gets rid of default border in Firefox and Opera. */\n",
       "                border: none;\n",
       "                /* Needs to be in here for Safari polyfill so background images work as expected. */\n",
       "                background-size: auto;\n",
       "            }\n",
       "            .progress-bar-interrupted, .progress-bar-interrupted::-webkit-progress-bar {\n",
       "                background: #F44336;\n",
       "            }\n",
       "        </style>\n",
       "      <progress value='1' class='' max='1' style='width:300px; height:20px; vertical-align: middle;'></progress>\n",
       "      100.00% [1/1 00:00<00:00]\n",
       "    </div>\n",
       "    "
      ],
      "text/plain": [
       "<IPython.core.display.HTML object>"
      ]
     },
     "metadata": {},
     "output_type": "display_data"
    },
    {
     "name": "stdout",
     "output_type": "stream",
     "text": [
      "first month of dataset is: 12\n",
      "tas\n",
      "rlut\n",
      "rsut\n",
      "rsdt\n",
      "historical EC-Earth3 r15i1p1f1 global means already exist, and will therefore not be computed\n",
      "\n",
      "--> The keys in the returned dictionary of datasets are constructed as follows:\n",
      "\t'activity_id.institution_id.source_id.experiment_id.table_id.grid_label'\n"
     ]
    },
    {
     "data": {
      "text/html": [
       "\n",
       "    <div>\n",
       "        <style>\n",
       "            /* Turns off some styling */\n",
       "            progress {\n",
       "                /* gets rid of default border in Firefox and Opera. */\n",
       "                border: none;\n",
       "                /* Needs to be in here for Safari polyfill so background images work as expected. */\n",
       "                background-size: auto;\n",
       "            }\n",
       "            .progress-bar-interrupted, .progress-bar-interrupted::-webkit-progress-bar {\n",
       "                background: #F44336;\n",
       "            }\n",
       "        </style>\n",
       "      <progress value='1' class='' max='1' style='width:300px; height:20px; vertical-align: middle;'></progress>\n",
       "      100.00% [1/1 00:00<00:00]\n",
       "    </div>\n",
       "    "
      ],
      "text/plain": [
       "<IPython.core.display.HTML object>"
      ]
     },
     "metadata": {},
     "output_type": "display_data"
    },
    {
     "name": "stdout",
     "output_type": "stream",
     "text": [
      "first month of dataset is: 12\n",
      "tas\n",
      "rlut\n",
      "rsut\n",
      "rsdt\n"
     ]
    }
   ],
   "source": [
    "#importlib.reload(global_annual_means)\n",
    "#from global_annual_means import *\n",
    "\n",
    "#for exp in experiment_list:\n",
    "for exp in [experiment_list[5]]:\n",
    "    with open('../Data_availability/GoogleCloud/cloud-'+exp+'.json', 'r') as f:\n",
    "         data_dict = json.load(f)\n",
    "    #print(exp, data_dict)\n",
    "    for model in ['EC-Earth3']:\n",
    "    #for model in data_dict:\n",
    "        for member in ['r13i1p1f1', 'r15i1p1f1']:\n",
    "        #for member in data_dict[model]:\n",
    "            if error_test(exp, model, member) == True:\n",
    "                print(exp, model, member, 'skipped because it contains errors')\n",
    "                continue\n",
    "\n",
    "            filename = model + '_' + exp + '_' + str(member) + '_means.csv'\n",
    "            filepath = os.path.join('../Processed_data/Global_annual_means/', model, exp)\n",
    "            # check if file exists already:\n",
    "            if os.path.isfile(filepath + '/' + filename):\n",
    "                print(exp, model, member, 'global means already exist, and will therefore not be computed')\n",
    "            #    continue\n",
    "            else:\n",
    "                print(exp, model, member)\n",
    "            if sepvar_test(exp, model, member) == True:\n",
    "                # load each variable separately because of an error in the time coordinates\n",
    "                avg_df = global_average_sepvar(exp, model, member)\n",
    "            else:\n",
    "                ds = ds_cloud(exp, model, member)\n",
    "                avg_df = global_averaging(ds)\n",
    "\n",
    "            # save dataframe as csv:\n",
    "            if os.path.isdir(filepath) == False:\n",
    "                os.makedirs(filepath)\n",
    "            avg_df.to_csv(filepath + '/' + filename)\n"
   ]
  },
  {
   "cell_type": "code",
   "execution_count": 7,
   "metadata": {},
   "outputs": [
    {
     "data": {
      "text/html": [
       "<div>\n",
       "<style scoped>\n",
       "    .dataframe tbody tr th:only-of-type {\n",
       "        vertical-align: middle;\n",
       "    }\n",
       "\n",
       "    .dataframe tbody tr th {\n",
       "        vertical-align: top;\n",
       "    }\n",
       "\n",
       "    .dataframe thead th {\n",
       "        text-align: right;\n",
       "    }\n",
       "</style>\n",
       "<table border=\"1\" class=\"dataframe\">\n",
       "  <thead>\n",
       "    <tr style=\"text-align: right;\">\n",
       "      <th></th>\n",
       "      <th>tas</th>\n",
       "      <th>rlut</th>\n",
       "      <th>rsut</th>\n",
       "      <th>rsdt</th>\n",
       "    </tr>\n",
       "    <tr>\n",
       "      <th>year</th>\n",
       "      <th></th>\n",
       "      <th></th>\n",
       "      <th></th>\n",
       "      <th></th>\n",
       "    </tr>\n",
       "  </thead>\n",
       "  <tbody>\n",
       "    <tr>\n",
       "      <th>1850</th>\n",
       "      <td>287.024878</td>\n",
       "      <td>241.991483</td>\n",
       "      <td>98.457597</td>\n",
       "      <td>340.282563</td>\n",
       "    </tr>\n",
       "    <tr>\n",
       "      <th>1851</th>\n",
       "      <td>287.026583</td>\n",
       "      <td>242.010503</td>\n",
       "      <td>98.253183</td>\n",
       "      <td>340.271688</td>\n",
       "    </tr>\n",
       "    <tr>\n",
       "      <th>1852</th>\n",
       "      <td>287.016881</td>\n",
       "      <td>242.000590</td>\n",
       "      <td>97.952380</td>\n",
       "      <td>340.301727</td>\n",
       "    </tr>\n",
       "    <tr>\n",
       "      <th>1853</th>\n",
       "      <td>287.260882</td>\n",
       "      <td>242.141159</td>\n",
       "      <td>97.883823</td>\n",
       "      <td>340.250531</td>\n",
       "    </tr>\n",
       "    <tr>\n",
       "      <th>1854</th>\n",
       "      <td>287.269304</td>\n",
       "      <td>242.394825</td>\n",
       "      <td>97.847370</td>\n",
       "      <td>340.223418</td>\n",
       "    </tr>\n",
       "    <tr>\n",
       "      <th>...</th>\n",
       "      <td>...</td>\n",
       "      <td>...</td>\n",
       "      <td>...</td>\n",
       "      <td>...</td>\n",
       "    </tr>\n",
       "    <tr>\n",
       "      <th>2010</th>\n",
       "      <td>288.212442</td>\n",
       "      <td>241.474229</td>\n",
       "      <td>98.304101</td>\n",
       "      <td>340.252580</td>\n",
       "    </tr>\n",
       "    <tr>\n",
       "      <th>2011</th>\n",
       "      <td>288.241259</td>\n",
       "      <td>241.470862</td>\n",
       "      <td>98.262291</td>\n",
       "      <td>340.319857</td>\n",
       "    </tr>\n",
       "    <tr>\n",
       "      <th>2012</th>\n",
       "      <td>288.238787</td>\n",
       "      <td>241.342817</td>\n",
       "      <td>97.858688</td>\n",
       "      <td>340.379604</td>\n",
       "    </tr>\n",
       "    <tr>\n",
       "      <th>2013</th>\n",
       "      <td>288.295173</td>\n",
       "      <td>241.496770</td>\n",
       "      <td>98.193031</td>\n",
       "      <td>340.363820</td>\n",
       "    </tr>\n",
       "    <tr>\n",
       "      <th>2014</th>\n",
       "      <td>288.247799</td>\n",
       "      <td>241.430468</td>\n",
       "      <td>98.137082</td>\n",
       "      <td>340.381258</td>\n",
       "    </tr>\n",
       "  </tbody>\n",
       "</table>\n",
       "<p>165 rows × 4 columns</p>\n",
       "</div>"
      ],
      "text/plain": [
       "             tas        rlut       rsut        rsdt\n",
       "year                                               \n",
       "1850  287.024878  241.991483  98.457597  340.282563\n",
       "1851  287.026583  242.010503  98.253183  340.271688\n",
       "1852  287.016881  242.000590  97.952380  340.301727\n",
       "1853  287.260882  242.141159  97.883823  340.250531\n",
       "1854  287.269304  242.394825  97.847370  340.223418\n",
       "...          ...         ...        ...         ...\n",
       "2010  288.212442  241.474229  98.304101  340.252580\n",
       "2011  288.241259  241.470862  98.262291  340.319857\n",
       "2012  288.238787  241.342817  97.858688  340.379604\n",
       "2013  288.295173  241.496770  98.193031  340.363820\n",
       "2014  288.247799  241.430468  98.137082  340.381258\n",
       "\n",
       "[165 rows x 4 columns]"
      ]
     },
     "execution_count": 7,
     "metadata": {},
     "output_type": "execute_result"
    }
   ],
   "source": [
    "avg_df"
   ]
  },
  {
   "cell_type": "markdown",
   "metadata": {},
   "source": [
    "## Check if there are missing time periods in any of the datasets:"
   ]
  },
  {
   "cell_type": "code",
   "execution_count": 7,
   "metadata": {},
   "outputs": [],
   "source": [
    "from processing_functions import *\n",
    "experiments = make_exp_dict()\n",
    "#model_names = [key for key in experiments.keys()]"
   ]
  },
  {
   "cell_type": "code",
   "execution_count": 8,
   "metadata": {},
   "outputs": [
    {
     "name": "stdout",
     "output_type": "stream",
     "text": [
      "AWI-CM-1-1-MR historical r1i1p1f1 data contain 1 NaN values\n",
      "AWI-CM-1-1-MR historical r2i1p1f1 data contain 1 NaN values\n",
      "AWI-CM-1-1-MR historical r3i1p1f1 data contain 1 NaN values\n",
      "AWI-CM-1-1-MR historical r4i1p1f1 data contain 1 NaN values\n",
      "AWI-CM-1-1-MR historical r5i1p1f1 data contain 1 NaN values\n",
      "EC-Earth3-Veg piControl r1i1p1f1 data contain 3000 NaN values\n",
      "EC-Earth3-Veg piControl r1i1p1f1 data contain 3000 NaN values\n",
      "FIO-ESM-2-0 piControl r1i1p1f1 data contain 325 NaN values\n"
     ]
    }
   ],
   "source": [
    "nandata_list = []\n",
    "for model in experiments.keys():\n",
    "    for exp in experiments[model]:\n",
    "        exp_path = '../Processed_data/Global_annual_means/' + model + '/' + exp + '/'\n",
    "        for member in experiments[model][exp]:\n",
    "            # load exp data\n",
    "            exp_filename = model + '_' + exp + '_' + member + '_means.csv'\n",
    "            exp_data = pd.read_table(exp_path + exp_filename, index_col=0, sep = ',')\n",
    "            if np.isnan(exp_data).values.any():\n",
    "                nandata_list.append([model, exp, member])\n",
    "                print(model, exp, member, 'data contain', np.isnan(exp_data).values.sum(), 'NaN values')\n",
    "                "
   ]
  },
  {
   "cell_type": "markdown",
   "metadata": {},
   "source": [
    "After first run through all data in the cloud: (most of these are now downloaded and averaged)\n",
    "\n",
    "ACCESS-ESM1-5 piControl r1i1p1f1 data contain 200 NaN values\n",
    "AWI-CM-1-1-MR historical r1i1p1f1 data contain 1 NaN values\n",
    "AWI-CM-1-1-MR historical r2i1p1f1 data contain 1 NaN values\n",
    "AWI-CM-1-1-MR historical r3i1p1f1 data contain 1 NaN values\n",
    "AWI-CM-1-1-MR historical r4i1p1f1 data contain 1 NaN values\n",
    "AWI-CM-1-1-MR historical r5i1p1f1 data contain 1 NaN values\n",
    "CAS-ESM2-0 piControl r1i1p1f1 data contain 151 NaN values\n",
    "CAS-ESM2-0 abrupt-4xCO2 r1i1p1f1 data contain 34 NaN values\n",
    "CESM2-WACCM ssp585 r1i1p1f1 data contain 199 NaN values\n",
    "CESM2-WACCM ssp126 r1i1p1f1 data contain 597 NaN values\n",
    "CIESM ssp585 r1i1p1f1 data contain 344 NaN values\n",
    "EC-Earth3-Veg piControl r1i1p1f1 data contain 3000 NaN values\n",
    "FGOALS-g3 historical r5i1p1f1 data contain 117 NaN values\n",
    "FGOALS-g3 historical r6i1p1f1 data contain 284 NaN values\n",
    "FIO-ESM-2-0 piControl r1i1p1f1 data contain 325 NaN values\n",
    "GFDL-CM4 abrupt-4xCO2 r1i1p1f1 data contain 280 NaN values\n",
    "HadGEM3-GC31-LL piControl r1i1p1f1 data contain 3000 NaN values\n",
    "MIROC6 ssp245 r21i1p1f1 data contain 183 NaN values\n",
    "MIROC6 ssp245 r22i1p1f1 data contain 183 NaN values\n",
    "MIROC6 ssp245 r23i1p1f1 data contain 183 NaN values\n",
    "MIROC6 ssp245 r24i1p1f1 data contain 183 NaN values\n",
    "MIROC6 ssp245 r25i1p1f1 data contain 183 NaN values\n",
    "MIROC6 ssp245 r26i1p1f1 data contain 183 NaN values\n",
    "MIROC6 ssp245 r27i1p1f1 data contain 183 NaN values\n",
    "MIROC6 ssp245 r28i1p1f1 data contain 183 NaN values\n",
    "MIROC6 ssp245 r29i1p1f1 data contain 183 NaN values\n",
    "MIROC6 ssp245 r30i1p1f1 data contain 183 NaN values\n",
    "MIROC6 ssp245 r31i1p1f1 data contain 183 NaN values\n",
    "MIROC6 ssp245 r32i1p1f1 data contain 183 NaN values\n",
    "MIROC6 ssp245 r33i1p1f1 data contain 183 NaN values\n",
    "MIROC6 ssp245 r34i1p1f1 data contain 183 NaN values\n",
    "MIROC6 ssp245 r35i1p1f1 data contain 183 NaN values\n",
    "MIROC6 ssp245 r36i1p1f1 data contain 183 NaN values\n",
    "MIROC6 ssp245 r37i1p1f1 data contain 183 NaN values\n",
    "MIROC6 ssp245 r38i1p1f1 data contain 183 NaN values\n",
    "MIROC6 ssp245 r39i1p1f1 data contain 183 NaN values\n",
    "MIROC6 ssp245 r40i1p1f1 data contain 183 NaN values\n",
    "MIROC6 ssp245 r41i1p1f1 data contain 183 NaN values\n",
    "MIROC6 ssp245 r42i1p1f1 data contain 183 NaN values\n",
    "MIROC6 ssp245 r43i1p1f1 data contain 183 NaN values\n",
    "MIROC6 ssp245 r44i1p1f1 data contain 183 NaN values\n",
    "MIROC6 ssp245 r45i1p1f1 data contain 183 NaN values\n",
    "MIROC6 ssp245 r46i1p1f1 data contain 183 NaN values\n",
    "MIROC6 ssp245 r47i1p1f1 data contain 183 NaN values\n",
    "MIROC6 ssp245 r48i1p1f1 data contain 183 NaN values\n",
    "MIROC6 ssp245 r49i1p1f1 data contain 183 NaN values\n",
    "MIROC6 ssp245 r50i1p1f1 data contain 183 NaN values\n",
    "MPI-ESM-1-2-HAM piControl r1i1p1f1 data contain 440 NaN values\n",
    "MRI-ESM2-0 piClim-control r1i1p1f1 data contain 3 NaN values\n",
    "MRI-ESM2-0 ssp245 r2i1p1f1 data contain 210 NaN values\n",
    "MRI-ESM2-0 ssp245 r3i1p1f1 data contain 210 NaN values\n",
    "MRI-ESM2-0 ssp245 r4i1p1f1 data contain 210 NaN values\n",
    "MRI-ESM2-0 ssp245 r5i1p1f1 data contain 210 NaN values\n",
    "MRI-ESM2-0 piClim-4xCO2 r1i1p1f1 data contain 3 NaN values\n",
    "NorCPM1 historical r11i1p1f1 data contain 210 NaN values\n",
    "NorCPM1 historical r12i1p1f1 data contain 210 NaN values\n",
    "NorCPM1 historical r13i1p1f1 data contain 210 NaN values\n",
    "NorCPM1 historical r14i1p1f1 data contain 360 NaN values\n",
    "NorCPM1 historical r15i1p1f1 data contain 210 NaN values\n",
    "NorCPM1 historical r16i1p1f1 data contain 210 NaN values\n",
    "NorCPM1 historical r17i1p1f1 data contain 210 NaN values\n",
    "NorCPM1 historical r19i1p1f1 data contain 360 NaN values\n",
    "NorCPM1 historical r1i1p1f1 data contain 210 NaN values\n",
    "NorCPM1 historical r21i1p1f1 data contain 360 NaN values\n",
    "NorCPM1 historical r22i1p1f1 data contain 210 NaN values\n",
    "NorCPM1 historical r24i1p1f1 data contain 360 NaN values\n",
    "NorCPM1 historical r25i1p1f1 data contain 210 NaN values\n",
    "NorCPM1 historical r26i1p1f1 data contain 360 NaN values\n",
    "NorCPM1 historical r27i1p1f1 data contain 210 NaN values\n",
    "NorCPM1 historical r28i1p1f1 data contain 360 NaN values\n",
    "NorCPM1 historical r29i1p1f1 data contain 510 NaN values\n",
    "NorCPM1 historical r2i1p1f1 data contain 360 NaN values\n",
    "NorCPM1 historical r30i1p1f1 data contain 360 NaN values\n",
    "NorCPM1 historical r3i1p1f1 data contain 210 NaN values\n",
    "NorCPM1 historical r4i1p1f1 data contain 210 NaN values\n",
    "NorCPM1 historical r5i1p1f1 data contain 360 NaN values\n",
    "NorCPM1 historical r7i1p1f1 data contain 210 NaN values\n",
    "UKESM1-0-LL ssp585 r4i1p1f2 data contain 400 NaN values\n",
    "UKESM1-0-LL ssp245 r10i1p1f2 data contain 162 NaN values\n",
    "UKESM1-0-LL ssp245 r11i1p1f2 data contain 162 NaN values\n",
    "UKESM1-0-LL ssp245 r12i1p1f2 data contain 162 NaN values\n",
    "UKESM1-0-LL ssp245 r16i1p1f2 data contain 162 NaN values\n",
    "UKESM1-0-LL ssp245 r17i1p1f2 data contain 162 NaN values\n",
    "UKESM1-0-LL ssp245 r18i1p1f2 data contain 162 NaN values\n",
    "UKESM1-0-LL ssp245 r19i1p1f2 data contain 162 NaN values\n",
    "UKESM1-0-LL ssp245 r5i1p1f2 data contain 162 NaN values\n",
    "UKESM1-0-LL ssp245 r6i1p1f2 data contain 162 NaN values\n",
    "UKESM1-0-LL ssp245 r7i1p1f2 data contain 162 NaN values\n",
    "UKESM1-0-LL ssp245 r9i1p1f2 data contain 162 NaN values"
   ]
  },
  {
   "cell_type": "code",
   "execution_count": 4,
   "metadata": {},
   "outputs": [
    {
     "data": {
      "text/plain": [
       "['ACCESS-ESM1-5',\n",
       " 'AWI-CM-1-1-MR',\n",
       " 'CAS-ESM2-0',\n",
       " 'CESM2-WACCM',\n",
       " 'CIESM',\n",
       " 'EC-Earth3-Veg',\n",
       " 'FGOALS-g3',\n",
       " 'FIO-ESM-2-0',\n",
       " 'GFDL-CM4',\n",
       " 'HadGEM3-GC31-LL',\n",
       " 'MIROC6',\n",
       " 'MPI-ESM-1-2-HAM',\n",
       " 'MRI-ESM2-0',\n",
       " 'NorCPM1',\n",
       " 'UKESM1-0-LL']"
      ]
     },
     "execution_count": 4,
     "metadata": {},
     "output_type": "execute_result"
    }
   ],
   "source": [
    "unique_models = list(set([nandata_list[i][0] for i in range(len(nandata_list))]))\n",
    "unique_models.sort()\n",
    "unique_models"
   ]
  },
  {
   "cell_type": "markdown",
   "metadata": {},
   "source": [
    "## The following did not seem to improve anything. Instead, many datasets have been downloaded instead"
   ]
  },
  {
   "cell_type": "code",
   "execution_count": 5,
   "metadata": {},
   "outputs": [
    {
     "name": "stdout",
     "output_type": "stream",
     "text": [
      "MIROC6 ssp245 r21i1p1f1 data contain NaN values\n",
      "\n",
      "--> The keys in the returned dictionary of datasets are constructed as follows:\n",
      "\t'activity_id.institution_id.source_id.experiment_id.table_id.grid_label'\n"
     ]
    },
    {
     "data": {
      "text/html": [
       "\n",
       "    <div>\n",
       "        <style>\n",
       "            /* Turns off some styling */\n",
       "            progress {\n",
       "                /* gets rid of default border in Firefox and Opera. */\n",
       "                border: none;\n",
       "                /* Needs to be in here for Safari polyfill so background images work as expected. */\n",
       "                background-size: auto;\n",
       "            }\n",
       "            .progress-bar-interrupted, .progress-bar-interrupted::-webkit-progress-bar {\n",
       "                background: #F44336;\n",
       "            }\n",
       "        </style>\n",
       "      <progress value='1' class='' max='1' style='width:300px; height:20px; vertical-align: middle;'></progress>\n",
       "      100.00% [1/1 00:00<00:00]\n",
       "    </div>\n",
       "    "
      ],
      "text/plain": [
       "<IPython.core.display.HTML object>"
      ]
     },
     "metadata": {},
     "output_type": "display_data"
    },
    {
     "name": "stdout",
     "output_type": "stream",
     "text": [
      "first month of dataset is: 1\n",
      "tas\n",
      "rlut\n"
     ]
    },
    {
     "ename": "KeyError",
     "evalue": "'rlut'",
     "output_type": "error",
     "traceback": [
      "\u001b[0;31m---------------------------------------------------------------------------\u001b[0m",
      "\u001b[0;31mKeyError\u001b[0m                                  Traceback (most recent call last)",
      "\u001b[0;32m~/anaconda3/envs/CMIP6_hege/lib/python3.6/site-packages/xarray/core/dataset.py\u001b[0m in \u001b[0;36m_construct_dataarray\u001b[0;34m(self, name)\u001b[0m\n\u001b[1;32m   1370\u001b[0m         \u001b[0;32mtry\u001b[0m\u001b[0;34m:\u001b[0m\u001b[0;34m\u001b[0m\u001b[0;34m\u001b[0m\u001b[0m\n\u001b[0;32m-> 1371\u001b[0;31m             \u001b[0mvariable\u001b[0m \u001b[0;34m=\u001b[0m \u001b[0mself\u001b[0m\u001b[0;34m.\u001b[0m\u001b[0m_variables\u001b[0m\u001b[0;34m[\u001b[0m\u001b[0mname\u001b[0m\u001b[0;34m]\u001b[0m\u001b[0;34m\u001b[0m\u001b[0;34m\u001b[0m\u001b[0m\n\u001b[0m\u001b[1;32m   1372\u001b[0m         \u001b[0;32mexcept\u001b[0m \u001b[0mKeyError\u001b[0m\u001b[0;34m:\u001b[0m\u001b[0;34m\u001b[0m\u001b[0;34m\u001b[0m\u001b[0m\n",
      "\u001b[0;31mKeyError\u001b[0m: 'rlut'",
      "\nDuring handling of the above exception, another exception occurred:\n",
      "\u001b[0;31mKeyError\u001b[0m                                  Traceback (most recent call last)",
      "\u001b[0;32m<ipython-input-5-e3b59ffb986e>\u001b[0m in \u001b[0;36m<module>\u001b[0;34m\u001b[0m\n\u001b[1;32m     16\u001b[0m                 \u001b[0;32melse\u001b[0m\u001b[0;34m:\u001b[0m\u001b[0;34m\u001b[0m\u001b[0;34m\u001b[0m\u001b[0m\n\u001b[1;32m     17\u001b[0m                     \u001b[0mds\u001b[0m \u001b[0;34m=\u001b[0m \u001b[0mds_cloud\u001b[0m\u001b[0;34m(\u001b[0m\u001b[0mexp\u001b[0m\u001b[0;34m,\u001b[0m \u001b[0mmodel\u001b[0m\u001b[0;34m,\u001b[0m \u001b[0mmember\u001b[0m\u001b[0;34m)\u001b[0m\u001b[0;34m\u001b[0m\u001b[0;34m\u001b[0m\u001b[0m\n\u001b[0;32m---> 18\u001b[0;31m                     \u001b[0mavg_df\u001b[0m \u001b[0;34m=\u001b[0m \u001b[0mglobal_averaging\u001b[0m\u001b[0;34m(\u001b[0m\u001b[0mds\u001b[0m\u001b[0;34m)\u001b[0m\u001b[0;34m\u001b[0m\u001b[0;34m\u001b[0m\u001b[0m\n\u001b[0m\u001b[1;32m     19\u001b[0m                 \u001b[0;32mif\u001b[0m \u001b[0mnp\u001b[0m\u001b[0;34m.\u001b[0m\u001b[0misnan\u001b[0m\u001b[0;34m(\u001b[0m\u001b[0mavg_df\u001b[0m\u001b[0;34m)\u001b[0m\u001b[0;34m.\u001b[0m\u001b[0mvalues\u001b[0m\u001b[0;34m.\u001b[0m\u001b[0many\u001b[0m\u001b[0;34m(\u001b[0m\u001b[0;34m)\u001b[0m\u001b[0;34m:\u001b[0m\u001b[0;34m\u001b[0m\u001b[0;34m\u001b[0m\u001b[0m\n\u001b[1;32m     20\u001b[0m                     \u001b[0mprint\u001b[0m\u001b[0;34m(\u001b[0m\u001b[0mmodel\u001b[0m\u001b[0;34m,\u001b[0m \u001b[0mexp\u001b[0m\u001b[0;34m,\u001b[0m \u001b[0mmember\u001b[0m\u001b[0;34m,\u001b[0m \u001b[0;34m'still contain NaN values after recomputing'\u001b[0m\u001b[0;34m)\u001b[0m\u001b[0;34m\u001b[0m\u001b[0;34m\u001b[0m\u001b[0m\n",
      "\u001b[0;32m~/OneDrive - UiT Office 365/Papers/ForcingCMIP6/CMIP6-forcing/Data_processing/global_annual_means.py\u001b[0m in \u001b[0;36mglobal_averaging\u001b[0;34m(ds, varlist, calendar)\u001b[0m\n\u001b[1;32m    130\u001b[0m     \u001b[0;32mfor\u001b[0m \u001b[0mvariable\u001b[0m \u001b[0;32min\u001b[0m \u001b[0mvarlist\u001b[0m\u001b[0;34m:\u001b[0m\u001b[0;34m\u001b[0m\u001b[0;34m\u001b[0m\u001b[0m\n\u001b[1;32m    131\u001b[0m         \u001b[0mprint\u001b[0m\u001b[0;34m(\u001b[0m\u001b[0mvariable\u001b[0m\u001b[0;34m)\u001b[0m\u001b[0;34m\u001b[0m\u001b[0;34m\u001b[0m\u001b[0m\n\u001b[0;32m--> 132\u001b[0;31m         \u001b[0mdata\u001b[0m \u001b[0;34m=\u001b[0m \u001b[0mds\u001b[0m\u001b[0;34m[\u001b[0m\u001b[0mvariable\u001b[0m\u001b[0;34m]\u001b[0m\u001b[0;34m\u001b[0m\u001b[0;34m\u001b[0m\u001b[0m\n\u001b[0m\u001b[1;32m    133\u001b[0m         \u001b[0;31m#print(data)\u001b[0m\u001b[0;34m\u001b[0m\u001b[0;34m\u001b[0m\u001b[0;34m\u001b[0m\u001b[0m\n\u001b[1;32m    134\u001b[0m         \u001b[0;31m#print(data.dims)\u001b[0m\u001b[0;34m\u001b[0m\u001b[0;34m\u001b[0m\u001b[0;34m\u001b[0m\u001b[0m\n",
      "\u001b[0;32m~/anaconda3/envs/CMIP6_hege/lib/python3.6/site-packages/xarray/core/dataset.py\u001b[0m in \u001b[0;36m__getitem__\u001b[0;34m(self, key)\u001b[0m\n\u001b[1;32m   1473\u001b[0m \u001b[0;34m\u001b[0m\u001b[0m\n\u001b[1;32m   1474\u001b[0m         \u001b[0;32mif\u001b[0m \u001b[0mhashable\u001b[0m\u001b[0;34m(\u001b[0m\u001b[0mkey\u001b[0m\u001b[0;34m)\u001b[0m\u001b[0;34m:\u001b[0m\u001b[0;34m\u001b[0m\u001b[0;34m\u001b[0m\u001b[0m\n\u001b[0;32m-> 1475\u001b[0;31m             \u001b[0;32mreturn\u001b[0m \u001b[0mself\u001b[0m\u001b[0;34m.\u001b[0m\u001b[0m_construct_dataarray\u001b[0m\u001b[0;34m(\u001b[0m\u001b[0mkey\u001b[0m\u001b[0;34m)\u001b[0m\u001b[0;34m\u001b[0m\u001b[0;34m\u001b[0m\u001b[0m\n\u001b[0m\u001b[1;32m   1476\u001b[0m         \u001b[0;32melse\u001b[0m\u001b[0;34m:\u001b[0m\u001b[0;34m\u001b[0m\u001b[0;34m\u001b[0m\u001b[0m\n\u001b[1;32m   1477\u001b[0m             \u001b[0;32mreturn\u001b[0m \u001b[0mself\u001b[0m\u001b[0;34m.\u001b[0m\u001b[0m_copy_listed\u001b[0m\u001b[0;34m(\u001b[0m\u001b[0mnp\u001b[0m\u001b[0;34m.\u001b[0m\u001b[0masarray\u001b[0m\u001b[0;34m(\u001b[0m\u001b[0mkey\u001b[0m\u001b[0;34m)\u001b[0m\u001b[0;34m)\u001b[0m\u001b[0;34m\u001b[0m\u001b[0;34m\u001b[0m\u001b[0m\n",
      "\u001b[0;32m~/anaconda3/envs/CMIP6_hege/lib/python3.6/site-packages/xarray/core/dataset.py\u001b[0m in \u001b[0;36m_construct_dataarray\u001b[0;34m(self, name)\u001b[0m\n\u001b[1;32m   1372\u001b[0m         \u001b[0;32mexcept\u001b[0m \u001b[0mKeyError\u001b[0m\u001b[0;34m:\u001b[0m\u001b[0;34m\u001b[0m\u001b[0;34m\u001b[0m\u001b[0m\n\u001b[1;32m   1373\u001b[0m             _, name, variable = _get_virtual_variable(\n\u001b[0;32m-> 1374\u001b[0;31m                 \u001b[0mself\u001b[0m\u001b[0;34m.\u001b[0m\u001b[0m_variables\u001b[0m\u001b[0;34m,\u001b[0m \u001b[0mname\u001b[0m\u001b[0;34m,\u001b[0m \u001b[0mself\u001b[0m\u001b[0;34m.\u001b[0m\u001b[0m_level_coords\u001b[0m\u001b[0;34m,\u001b[0m \u001b[0mself\u001b[0m\u001b[0;34m.\u001b[0m\u001b[0mdims\u001b[0m\u001b[0;34m\u001b[0m\u001b[0;34m\u001b[0m\u001b[0m\n\u001b[0m\u001b[1;32m   1375\u001b[0m             )\n\u001b[1;32m   1376\u001b[0m \u001b[0;34m\u001b[0m\u001b[0m\n",
      "\u001b[0;32m~/anaconda3/envs/CMIP6_hege/lib/python3.6/site-packages/xarray/core/dataset.py\u001b[0m in \u001b[0;36m_get_virtual_variable\u001b[0;34m(variables, key, level_vars, dim_sizes)\u001b[0m\n\u001b[1;32m    167\u001b[0m         \u001b[0mref_var\u001b[0m \u001b[0;34m=\u001b[0m \u001b[0mdim_var\u001b[0m\u001b[0;34m.\u001b[0m\u001b[0mto_index_variable\u001b[0m\u001b[0;34m(\u001b[0m\u001b[0;34m)\u001b[0m\u001b[0;34m.\u001b[0m\u001b[0mget_level_variable\u001b[0m\u001b[0;34m(\u001b[0m\u001b[0mref_name\u001b[0m\u001b[0;34m)\u001b[0m\u001b[0;34m\u001b[0m\u001b[0;34m\u001b[0m\u001b[0m\n\u001b[1;32m    168\u001b[0m     \u001b[0;32melse\u001b[0m\u001b[0;34m:\u001b[0m\u001b[0;34m\u001b[0m\u001b[0;34m\u001b[0m\u001b[0m\n\u001b[0;32m--> 169\u001b[0;31m         \u001b[0mref_var\u001b[0m \u001b[0;34m=\u001b[0m \u001b[0mvariables\u001b[0m\u001b[0;34m[\u001b[0m\u001b[0mref_name\u001b[0m\u001b[0;34m]\u001b[0m\u001b[0;34m\u001b[0m\u001b[0;34m\u001b[0m\u001b[0m\n\u001b[0m\u001b[1;32m    170\u001b[0m \u001b[0;34m\u001b[0m\u001b[0m\n\u001b[1;32m    171\u001b[0m     \u001b[0;32mif\u001b[0m \u001b[0mvar_name\u001b[0m \u001b[0;32mis\u001b[0m \u001b[0;32mNone\u001b[0m\u001b[0;34m:\u001b[0m\u001b[0;34m\u001b[0m\u001b[0;34m\u001b[0m\u001b[0m\n",
      "\u001b[0;31mKeyError\u001b[0m: 'rlut'"
     ]
    }
   ],
   "source": [
    "for model in [unique_models[10]]:\n",
    "#for model in unique_models:\n",
    "    for exp in experiments[model]:\n",
    "        exp_path = '../Processed_data/Global_annual_means/' + model + '/' + exp + '/'\n",
    "        for member in experiments[model][exp]:\n",
    "            # load exp data\n",
    "            exp_filename = model + '_' + exp + '_' + member + '_means.csv'\n",
    "            exp_data = pd.read_table(exp_path + exp_filename, index_col=0, sep = ',')\n",
    "            if np.isnan(exp_data).values.any():\n",
    "                print(model, exp, member, 'data contain NaN values')\n",
    "                \n",
    "                # recompute and check if data have been added later:\n",
    "                if sepvar_test(exp, model, member) == True:\n",
    "                    # load each variable separately because of an error in the time coordinates\n",
    "                    avg_df = global_average_sepvar(exp, model, member)\n",
    "                else:\n",
    "                    ds = ds_cloud(exp, model, member)\n",
    "                    avg_df = global_averaging(ds)\n",
    "                if np.isnan(avg_df).values.any():\n",
    "                    print(model, exp, member, 'still contain NaN values after recomputing')\n",
    "                else:\n",
    "                    print('no longer missing time periods for:', model, exp, member)\n",
    "                    if len(avg_df) >= len(exp_data):\n",
    "                        # save dataframe as csv:\n",
    "                        avg_df.to_csv(exp_path + '/' + exp_filename)\n",
    "                        print('Global means are replaced')\n",
    "                    else:\n",
    "                        print('New data is shorter than the old, and therefore not replaced')\n",
    "                    \n",
    "                "
   ]
  },
  {
   "cell_type": "code",
   "execution_count": null,
   "metadata": {},
   "outputs": [],
   "source": [
    "# For FIO-ESM-2-0 tas is from a different version of the dataset than the other variables.\n",
    "# which has a differen time period. This is the same as I find in ESGF.\n",
    "\n",
    "\n",
    "# EC-Earth3-Veg: obtaing the last 1000 years of the 2000 year long piControl\n",
    "# is a problem, since wget scripts can only be generated for 1000 files\n",
    "\n",
    "\n",
    "# NorCPM1 historical: many members contain also data that seems to belong in historical-ext instead (for years 2015-2029)"
   ]
  }
 ],
 "metadata": {
  "kernelspec": {
   "display_name": "Python [conda env:CMIP6_hege]",
   "language": "python",
   "name": "conda-env-CMIP6_hege-py"
  },
  "language_info": {
   "codemirror_mode": {
    "name": "ipython",
    "version": 3
   },
   "file_extension": ".py",
   "mimetype": "text/x-python",
   "name": "python",
   "nbconvert_exporter": "python",
   "pygments_lexer": "ipython3",
   "version": "3.6.10"
  }
 },
 "nbformat": 4,
 "nbformat_minor": 4
}
