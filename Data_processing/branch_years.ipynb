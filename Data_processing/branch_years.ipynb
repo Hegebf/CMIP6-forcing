{
 "cells": [
  {
   "cell_type": "markdown",
   "metadata": {},
   "source": [
    "# Find branch years\n",
    "\n",
    "### for experiments where we have global annual averages"
   ]
  },
  {
   "cell_type": "code",
   "execution_count": 1,
   "metadata": {},
   "outputs": [],
   "source": [
    "import os\n",
    "import pandas as pd\n",
    "import processing_functions\n",
    "import importlib\n",
    "importlib.reload(processing_functions)\n",
    "from processing_functions import *\n"
   ]
  },
  {
   "cell_type": "code",
   "execution_count": 10,
   "metadata": {},
   "outputs": [],
   "source": [
    "experiments = make_exp_dict()\n",
    "model_names = [key for key in experiments.keys()]"
   ]
  },
  {
   "cell_type": "code",
   "execution_count": 3,
   "metadata": {},
   "outputs": [],
   "source": [
    "experiments;"
   ]
  },
  {
   "cell_type": "code",
   "execution_count": 4,
   "metadata": {},
   "outputs": [],
   "source": [
    "model_names;"
   ]
  },
  {
   "cell_type": "markdown",
   "metadata": {},
   "source": [
    "## Select model, and choose whether to make a completely new file or add new info to existing file"
   ]
  },
  {
   "cell_type": "code",
   "execution_count": 5,
   "metadata": {},
   "outputs": [
    {
     "data": {
      "text/plain": [
       "'MIROC-ES2L'"
      ]
     },
     "execution_count": 5,
     "metadata": {},
     "output_type": "execute_result"
    }
   ],
   "source": [
    "model_names[43]"
   ]
  },
  {
   "cell_type": "code",
   "execution_count": 11,
   "metadata": {},
   "outputs": [
    {
     "name": "stdout",
     "output_type": "stream",
     "text": [
      "Some files have been looked at already:\n",
      "EC-Earth3-AerChem piClim-control r1i1p1f1  exists\n",
      "EC-Earth3-AerChem piControl r1i1p1f1  exists\n",
      "EC-Earth3-AerChem abrupt-4xCO2 r1i1p1f1  exists\n",
      "EC-Earth3-AerChem historical r1i1p1f1  exists\n",
      "EC-Earth3-AerChem 1pctCO2 r1i1p1f1  exists\n",
      "EC-Earth3-AerChem ssp370 r1i1p1f1  exists\n",
      "EC-Earth3-AerChem ssp370 r4i1p1f1  exists\n",
      "\n",
      " Scenarios and members to be loaded for model EC-Earth3-AerChem\n",
      "{'historical': ['r4i1p1f1']}\n",
      "EC-Earth3-AerChem historical r4i1p1f1 will be loaded\n",
      "EC-Earth3-AerChem historical r4i1p1f1 piControl r1i1p1f1 0.0 21914.0 days since 1850-01-01 standard\n"
     ]
    }
   ],
   "source": [
    "\n",
    "for model in ['EC-Earth3-AerChem']:\n",
    "#for model in model_names:\n",
    "    \n",
    "    create_newfile = False\n",
    "    #create_newfile = True\n",
    "\n",
    "    filename = '../Processed_data/Branch_times_csv/' + model + '_branch_times.csv'\n",
    "    if os.path.isfile(filename) and create_newfile == False:\n",
    "        print('Some files have been looked at already:')\n",
    "        # check if branch info is already printed, and if so, reuse existing info and load only new experiments\n",
    "        existing_df = pd.read_table(filename,index_col=0, sep = ',')\n",
    "        modelexp_toload = data_to_load(model, experiments, previously_read = existing_df)\n",
    "    else:\n",
    "        create_newfile = True\n",
    "        print('no file exists already, so a new file will be created and all data will be loaded')\n",
    "        modelexp_toload = experiments[model]\n",
    "\n",
    "    print('\\n', 'Scenarios and members to be loaded for model', model)\n",
    "    print(modelexp_toload)\n",
    "\n",
    "    #print('all experiments we have for this model are:', experiments[model])\n",
    "    model_df = branchinfo_df(model, modelexp_toload)\n",
    "    #model_df = branchinfo_df(model, modelexp_toload, load_also_downloaded_files = False)\n",
    "    #print(model_df)\n",
    "\n",
    "    if create_newfile == True:\n",
    "        model_df = model_df.sort_values(by=['exp','member'], ignore_index = True)\n",
    "        model_df.to_csv(filename)\n",
    "    else:\n",
    "        # merge with previously made file before saving\n",
    "        new_df = pd.concat([existing_df, model_df], ignore_index = True).sort_values(by=['exp','member'], ignore_index = True)\n",
    "        new_df.to_csv(filename)"
   ]
  },
  {
   "cell_type": "code",
   "execution_count": null,
   "metadata": {},
   "outputs": [],
   "source": []
  },
  {
   "cell_type": "code",
   "execution_count": null,
   "metadata": {},
   "outputs": [],
   "source": [
    "model_df"
   ]
  },
  {
   "cell_type": "code",
   "execution_count": null,
   "metadata": {},
   "outputs": [],
   "source": []
  }
 ],
 "metadata": {
  "kernelspec": {
   "display_name": "Python [conda env:CMIP6_hege]",
   "language": "python",
   "name": "conda-env-CMIP6_hege-py"
  },
  "language_info": {
   "codemirror_mode": {
    "name": "ipython",
    "version": 3
   },
   "file_extension": ".py",
   "mimetype": "text/x-python",
   "name": "python",
   "nbconvert_exporter": "python",
   "pygments_lexer": "ipython3",
   "version": "3.6.10"
  }
 },
 "nbformat": 4,
 "nbformat_minor": 4
}
