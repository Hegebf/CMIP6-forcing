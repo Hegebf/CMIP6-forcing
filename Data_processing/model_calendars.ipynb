{
 "cells": [
  {
   "cell_type": "markdown",
   "metadata": {},
   "source": [
    "# Find calendar\n",
    "\n",
    "### for experiments where we have a global annual average"
   ]
  },
  {
   "cell_type": "code",
   "execution_count": null,
   "metadata": {},
   "outputs": [],
   "source": [
    "import os\n",
    "import pandas as pd\n",
    "import processing_functions\n",
    "import importlib\n",
    "importlib.reload(processing_functions)\n",
    "from processing_functions import *"
   ]
  },
  {
   "cell_type": "code",
   "execution_count": null,
   "metadata": {},
   "outputs": [],
   "source": [
    "experiments = make_exp_dict()\n",
    "model_names = [key for key in experiments.keys()]"
   ]
  },
  {
   "cell_type": "code",
   "execution_count": null,
   "metadata": {},
   "outputs": [],
   "source": [
    "experiments;"
   ]
  },
  {
   "cell_type": "code",
   "execution_count": null,
   "metadata": {},
   "outputs": [],
   "source": [
    "model_names;"
   ]
  },
  {
   "cell_type": "markdown",
   "metadata": {},
   "source": [
    "## Loop through models"
   ]
  },
  {
   "cell_type": "code",
   "execution_count": null,
   "metadata": {},
   "outputs": [],
   "source": [
    "\n",
    "for model in model_names:\n",
    "    create_newfile = False\n",
    "    #create_newfile = True\n",
    "    \n",
    "    filename = '../Processed_data/Calendars_csv/' + model + '_calendars.csv'\n",
    "    if os.path.isfile(filename) and create_newfile == False:\n",
    "        # check if branch info is already printed, and if so, reuse existing info and load only new experiments\n",
    "        existing_df = pd.read_table(filename,index_col=0, sep = ',')\n",
    "        modelexp_toload = data_to_load(model, experiments, previously_read = existing_df)\n",
    "    else:\n",
    "        create_newfile = True\n",
    "        print('a new file will be created and all data will be loaded')\n",
    "        modelexp_toload = experiments[model]\n",
    "\n",
    "    print('\\n', 'Scenarios and members to be loaded for model', model)\n",
    "    print(modelexp_toload)\n",
    "\n",
    "    model_df = calendarinfo_df(model, modelexp_toload)\n",
    "    #model_df = calendarinfo_df(model, modelexp_toload, load_also_downloaded_files = False)\n",
    "\n",
    "    if create_newfile == True:\n",
    "        model_df = model_df.sort_values(by=['exp','member'], ignore_index = True)\n",
    "        model_df.to_csv(filename)\n",
    "    else:\n",
    "        # merge with previously made file before saving\n",
    "        new_df = pd.concat([existing_df, model_df], ignore_index = True).sort_values(by=['exp','member'], ignore_index = True)\n",
    "        new_df.to_csv(filename)           \n"
   ]
  },
  {
   "cell_type": "code",
   "execution_count": null,
   "metadata": {},
   "outputs": [],
   "source": []
  }
 ],
 "metadata": {
  "kernelspec": {
   "display_name": "Python [conda env:CMIP6_hege]",
   "language": "python",
   "name": "conda-env-CMIP6_hege-py"
  },
  "language_info": {
   "codemirror_mode": {
    "name": "ipython",
    "version": 3
   },
   "file_extension": ".py",
   "mimetype": "text/x-python",
   "name": "python",
   "nbconvert_exporter": "python",
   "pygments_lexer": "ipython3",
   "version": "3.6.10"
  }
 },
 "nbformat": 4,
 "nbformat_minor": 4
}
